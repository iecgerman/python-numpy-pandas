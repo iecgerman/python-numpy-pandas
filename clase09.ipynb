{
  "nbformat": 4,
  "nbformat_minor": 0,
  "metadata": {
    "colab": {
      "provenance": [],
      "authorship_tag": "ABX9TyPxQxEnHXhKBZtVtWymQX9Y",
      "include_colab_link": true
    },
    "kernelspec": {
      "name": "python3",
      "display_name": "Python 3"
    },
    "language_info": {
      "name": "python"
    }
  },
  "cells": [
    {
      "cell_type": "markdown",
      "metadata": {
        "id": "view-in-github",
        "colab_type": "text"
      },
      "source": [
        "<a href=\"https://colab.research.google.com/github/iecgerman/python-numpy-pandas/blob/master/clase09.ipynb\" target=\"_parent\"><img src=\"https://colab.research.google.com/assets/colab-badge.svg\" alt=\"Open In Colab\"/></a>"
      ]
    },
    {
      "cell_type": "code",
      "execution_count": null,
      "metadata": {
        "id": "gop6MW9oIvO_"
      },
      "outputs": [],
      "source": [
        "# Caso Práctico de Análisis de Datos"
      ]
    },
    {
      "cell_type": "code",
      "source": [
        "# VER UN COMENTARIO EN EL PASO 6 PORQUE LO COMENTE TODO\n",
        "\n",
        "\"\"\"import numpy as np\n",
        "\n",
        "months = np.array([\"Enero\",\"Febrero\",\"Marzo\", \"Abril\", \"Mayo\", \"Junio\",\"Julio\", \"Agosto\", \"Septiembre\", \"Octubre\", \"Noviembre\", \"Diciembre\"])\n",
        "print(months)\n",
        "\n",
        "pantalones = np.random.randint(100, 999, size=(1,12))\n",
        "print(pantalones)\n",
        "\n",
        "camisas = np.random.randint(100, 999, size=(1,12))\n",
        "print(camisas)\n",
        "\n",
        "zapatos = np.random.randint(100, 999, size=(1,12))\n",
        "print(zapatos)\"\"\"\n",
        "\n",
        "months = np.array([\"Enero\",\"Febrero\",\"Marzo\", \"Abril\", \"Mayo\", \"Junio\",\"Julio\", \"Agosto\", \"Septiembre\", \"Octubre\", \"Noviembre\", \"Diciembre\"])\n",
        "print(months)\n",
        "\n",
        "pantalones = np.array([150, 200, 250, 300, 220, 210, 180, 190, 230, 240, 280, 300])\n",
        "print(pantalones)\n",
        "\n",
        "camisas = np.array([180, 210, 230, 250, 270, 260, 240, 250, 270, 290, 310, 330])\n",
        "print(camisas)\n",
        "\n",
        "zapatos = np.array([200, 220, 240, 260, 280, 300, 320, 340, 360, 380, 400, 420])\n",
        "print(zapatos)"
      ],
      "metadata": {
        "colab": {
          "base_uri": "https://localhost:8080/"
        },
        "id": "iHBhBZy3JBVV",
        "outputId": "6f5f4640-5179-4e70-cb60-f633d1d99abb"
      },
      "execution_count": 58,
      "outputs": [
        {
          "output_type": "stream",
          "name": "stdout",
          "text": [
            "['Enero' 'Febrero' 'Marzo' 'Abril' 'Mayo' 'Junio' 'Julio' 'Agosto'\n",
            " 'Septiembre' 'Octubre' 'Noviembre' 'Diciembre']\n",
            "[150 200 250 300 220 210 180 190 230 240 280 300]\n",
            "[180 210 230 250 270 260 240 250 270 290 310 330]\n",
            "[200 220 240 260 280 300 320 340 360 380 400 420]\n"
          ]
        }
      ]
    },
    {
      "cell_type": "code",
      "source": [
        "# Paso 1: Crear arrays con datos de ventas mensuales\n",
        "\n",
        "print(pantalones)\n",
        "print(camisas)\n",
        "print(zapatos)\n",
        "\n",
        "suma = pantalones + camisas + zapatos\n",
        "print(\"VENTAS POR MES\", suma)"
      ],
      "metadata": {
        "colab": {
          "base_uri": "https://localhost:8080/"
        },
        "id": "uOiJwKNjPaLy",
        "outputId": "6fcb1a89-efaa-4634-c479-3b0eadf3ad2f"
      },
      "execution_count": null,
      "outputs": [
        {
          "output_type": "stream",
          "name": "stdout",
          "text": [
            "[150 200 250 300 220 210 180 190 230 240 280 300]\n",
            "[180 210 230 250 270 260 240 250 270 290 310 330]\n",
            "[200 220 240 260 280 300 320 340 360 380 400 420]\n",
            "VENTAS POR MES [ 530  630  720  810  770  770  740  780  860  910  990 1050]\n"
          ]
        }
      ]
    },
    {
      "cell_type": "code",
      "source": [
        "# Paso 2: Transformaciones básicas con NumPy\n",
        "# Estadísticas básicas\n",
        "\n",
        "# PRECIO PROMEDIO POR PRODUCTOS\n",
        "\n",
        "media_pantalon = np.mean(pantalones)\n",
        "print(\"PRECIO PROMEDIO POR PANTALON:\", \"{:.2f}\".format(media_pantalon))\n",
        "\n",
        "media_camisa = np.mean(camisas)\n",
        "print(\"PRECIO PROMEDIO POR CAMISA:\", \"{:.2f}\".format(media_camisa))\n",
        "\n",
        "media_zapato = np.mean(zapatos)\n",
        "print(\"PRECIO PROMEDIO POR ZAPATOS\", \"{:.2f}\".format(media_zapato))\n",
        "\n",
        "# VENTA TOTAL POR AÑO DE CADA PRODUCTO\n",
        "\n",
        "suma_pantalones = np.sum(pantalones)\n",
        "print(\"TOTAL DE VENTAS EN TODO EL AÑO DE LOS PANTALONES:\", suma_pantalones)\n",
        "\n",
        "suma_camisas = np.sum(camisas)\n",
        "print(\"TOTAL DE VENTAS EN TODO EL AÑO DE LAS CAMISAS:\", suma_camisas)\n",
        "\n",
        "suma_zapatos = np.sum(zapatos)\n",
        "print(\"TOTAL DE VENTAS EN TODO EL AÑO DE LOS ZAPATOS:\", suma_zapatos)\n"
      ],
      "metadata": {
        "colab": {
          "base_uri": "https://localhost:8080/"
        },
        "id": "NuhI8rQ3QaU6",
        "outputId": "ac35fa06-4621-46ab-a2df-4cdc41d2e05d"
      },
      "execution_count": null,
      "outputs": [
        {
          "output_type": "stream",
          "name": "stdout",
          "text": [
            "PRECIO PROMEDIO POR PANTALON: 229.17\n",
            "PRECIO PROMEDIO POR CAMISA: 257.50\n",
            "PRECIO PROMEDIO POR ZAPATOS 310.00\n",
            "TOTAL DE VENTAS EN TODO EL AÑO DE LOS PANTALONES: 2750\n",
            "TOTAL DE VENTAS EN TODO EL AÑO DE LAS CAMISAS: 3090\n",
            "TOTAL DE VENTAS EN TODO EL AÑO DE LOS ZAPATOS: 3720\n"
          ]
        }
      ]
    },
    {
      "cell_type": "code",
      "source": [
        "# Paso 3: Manipulación y análisis de datos\n",
        "# Calcular el total de ventas por mes\n",
        "\n",
        "total_ventas_por_mes = pantalones + camisas + zapatos # igual que el paso 1\n",
        "print(\"TOTAL DE VENTAS POR MES:\",total_ventas_por_mes)\n",
        "\n",
        "# Calcular el promedio de ventas por producto\n",
        "promedio_ventas_productos = np.array([media_pantalon, media_camisa, media_zapato])\n",
        "print(\"PROMEDIO DE VENTAS DE PANTALONES |  CAMISAS | ZAPATOS <---\", promedio_ventas_productos) # no pude darle format de 2 deciamales :(\n",
        "\n",
        "# Identificar el mes con mayor y menor ventas\n",
        "mes_mayor_ventas = months[np.argmax(total_ventas_por_mes)]\n",
        "print(\"MES CON MAYOR VENTAS: \", {mes_mayor_ventas})\n",
        "\n",
        "mes_menor_ventas = months[np.argmin(total_ventas_por_mes)]\n",
        "print(\"MES CON MENOR VENTAS: \", {mes_menor_ventas})"
      ],
      "metadata": {
        "colab": {
          "base_uri": "https://localhost:8080/"
        },
        "id": "UDp8uNK1UDbD",
        "outputId": "391b113a-4c4f-4e3a-f63e-6e6f03433ed2"
      },
      "execution_count": null,
      "outputs": [
        {
          "output_type": "stream",
          "name": "stdout",
          "text": [
            "TOTAL DE VENTAS POR MES: [ 530  630  720  810  770  770  740  780  860  910  990 1050]\n",
            "PROMEDIO DE VENTAS DE PANTALONES |  CAMISAS | ZAPATOS <--- [229.16666667 257.5        310.        ]\n",
            "MES CON MAYOR VENTAS:  {'Diciembre'}\n",
            "MES CON MENOR VENTAS:  {'Enero'}\n"
          ]
        }
      ]
    },
    {
      "cell_type": "code",
      "source": [
        "# Paso 4: Operaciones avanzadas con NumPy\n",
        "\n",
        "# Reshape y Transposición\n",
        "\n",
        "import numpy as np\n",
        "\n",
        "ventas_matrix = np.array([pantalones, camisas, zapatos])\n",
        "print(\"ventas_matrix:\\n\",ventas_matrix)\n",
        "\n",
        "ventas_reshaped = ventas_matrix.reshape(3,4,3) # matrices, filas, columnas y todo debe ser divisible entre 12 en este caso, se puede por ejemplo 6,3,2 o 6,2,3\n",
        "print(\"\\nventas_reshaped en 3 matrix, 4 filas y 3 columnas:\\n\", ventas_reshaped)\n",
        "\n",
        "ventas_transposed = ventas_matrix.T # Aquí en este caso se verá linfo invertida, las columnas seran pantalones, camisas y zapatos y cada fila sera un mes\n",
        "print(\"\\nventas_transposed:\\n\", ventas_transposed)\n",
        "\n",
        "# Invertir arrays y aplanar matrices\n",
        "\n",
        "print(\"\\nventas_matrix:\\n\",ventas_matrix)\n",
        "\n",
        "ventas_inverted = ventas_matrix[:, ::-1]\n",
        "print(\"\\nVENTAS INVERTIDAS:\\n\", ventas_inverted)\n",
        "\n",
        "pantalones_inverted = pantalones[::-1]\n",
        "print(\"\\n...........PRECIOS DE PANTALONES\", pantalones)\n",
        "print(\"PRECIOS DE PANTALONES INVERTIDOS\", pantalones_inverted)\n",
        "\n",
        "ventas_flattened = ventas_matrix.flatten()\n",
        "print(\"\\nVENTAS APLANADAS: \\n\", ventas_flattened)\n"
      ],
      "metadata": {
        "colab": {
          "base_uri": "https://localhost:8080/"
        },
        "id": "kKEKoV0QfZxY",
        "outputId": "c1f3b736-db1a-4762-840b-e0857f1b0367"
      },
      "execution_count": null,
      "outputs": [
        {
          "output_type": "stream",
          "name": "stdout",
          "text": [
            "ventas_matrix:\n",
            " [[150 200 250 300 220 210 180 190 230 240 280 300]\n",
            " [180 210 230 250 270 260 240 250 270 290 310 330]\n",
            " [200 220 240 260 280 300 320 340 360 380 400 420]]\n",
            "\n",
            "ventas_reshaped en 3 matrix, 4 filas y 3 columnas:\n",
            " [[[150 200 250]\n",
            "  [300 220 210]\n",
            "  [180 190 230]\n",
            "  [240 280 300]]\n",
            "\n",
            " [[180 210 230]\n",
            "  [250 270 260]\n",
            "  [240 250 270]\n",
            "  [290 310 330]]\n",
            "\n",
            " [[200 220 240]\n",
            "  [260 280 300]\n",
            "  [320 340 360]\n",
            "  [380 400 420]]]\n",
            "\n",
            "ventas_transposed:\n",
            " [[150 180 200]\n",
            " [200 210 220]\n",
            " [250 230 240]\n",
            " [300 250 260]\n",
            " [220 270 280]\n",
            " [210 260 300]\n",
            " [180 240 320]\n",
            " [190 250 340]\n",
            " [230 270 360]\n",
            " [240 290 380]\n",
            " [280 310 400]\n",
            " [300 330 420]]\n",
            "\n",
            "ventas_matrix:\n",
            " [[150 200 250 300 220 210 180 190 230 240 280 300]\n",
            " [180 210 230 250 270 260 240 250 270 290 310 330]\n",
            " [200 220 240 260 280 300 320 340 360 380 400 420]]\n",
            "\n",
            "VENTAS INVERTIDAS:\n",
            " [[300 280 240 230 190 180 210 220 300 250 200 150]\n",
            " [330 310 290 270 250 240 260 270 250 230 210 180]\n",
            " [420 400 380 360 340 320 300 280 260 240 220 200]]\n",
            "\n",
            "...........PRECIOS DE PANTALONES [150 200 250 300 220 210 180 190 230 240 280 300]\n",
            "PRECIOS DE PANTALONES INVERTIDOS [300 280 240 230 190 180 210 220 300 250 200 150]\n",
            "\n",
            "VENTAS APLANADAS: \n",
            " [150 200 250 300 220 210 180 190 230 240 280 300 180 210 230 250 270 260\n",
            " 240 250 270 290 310 330 200 220 240 260 280 300 320 340 360 380 400 420]\n"
          ]
        }
      ]
    },
    {
      "cell_type": "code",
      "source": [
        "# Paso 5: Análisis de elementos únicos y sus conteos\n",
        "\n",
        "unique_ventas, count_ventas = np.unique(ventas_flattened, return_counts=True)\n",
        "print(\"Elementos unicos en las ventas aplanadas:\\n\", unique_ventas)\n",
        "print(\"Conteos de los elementos unicos en las ventas aplanadas:\\n\", count_ventas)"
      ],
      "metadata": {
        "colab": {
          "base_uri": "https://localhost:8080/"
        },
        "id": "OzeR-gAiD1Yj",
        "outputId": "2e45489b-392a-4655-862b-c06fe9eec298"
      },
      "execution_count": null,
      "outputs": [
        {
          "output_type": "stream",
          "name": "stdout",
          "text": [
            "Elementos unicos en las ventas aplanadas:\n",
            " [169 203 212 261 276 284 316 331 374 382 436 447 462 502 536 541 552 561\n",
            " 564 599 639 707 718 745 769 801 814 915 926 938 947 964 970 976 992 998]\n",
            "Conteos de los elementos unicos en las ventas aplanadas:\n",
            " [1 1 1 1 1 1 1 1 1 1 1 1 1 1 1 1 1 1 1 1 1 1 1 1 1 1 1 1 1 1 1 1 1 1 1 1]\n"
          ]
        }
      ]
    },
    {
      "cell_type": "code",
      "source": [
        "# Paso 6: Indexación y slicing\n",
        "\n",
        "# Seleccionar ventas del primer trimestre\n",
        "\n",
        "ventas_primer_trimestre = ventas_matrix[:, :3]\n",
        "print(\"VENTAS:\\n\",ventas_matrix)\n",
        "print(\"\\nventas del primer trimestre:\\n\", ventas_primer_trimestre)\n",
        "\n",
        "# Indexación booleana para seleccionar meses con ventas totales superiores a 800\n",
        "\n",
        "meses_altas_ventas = months[total_ventas_por_mes > 800]\n",
        "print(\"\\nMeses que vendieron arriba de $800 pesos:\\n\", meses_altas_ventas)\n",
        "\n",
        "ventas_mayor_800 = total_ventas_por_mes[total_ventas_por_mes > 800]\n",
        "print(\"\\nFiltro de ventas arriba de $800 pesos:\\n\", ventas_mayor_800)\n",
        "\n",
        "index_meses = [0,1,2,11]\n",
        "ventas_index_meses = ventas_matrix[:, index_meses]\n",
        "print(\"\\nVentas de meses \\n Ene | Feb | Mar | Dic \\n\", ventas_index_meses)"
      ],
      "metadata": {
        "colab": {
          "base_uri": "https://localhost:8080/"
        },
        "id": "TEkSN09rF5tp",
        "outputId": "70bf86bd-0b5d-4190-dc17-bb507d243000"
      },
      "execution_count": 68,
      "outputs": [
        {
          "output_type": "stream",
          "name": "stdout",
          "text": [
            "VENTAS:\n",
            " [[150 200 250 300 220 210 180 190 230 240 280 300]\n",
            " [180 210 230 250 270 260 240 250 270 290 310 330]\n",
            " [200 220 240 260 280 300 320 340 360 380 400 420]]\n",
            "\n",
            "ventas del primer trimestre:\n",
            " [[150 200 250]\n",
            " [180 210 230]\n",
            " [200 220 240]]\n",
            "\n",
            "Meses que vendieron arriba de $800 pesos:\n",
            " ['Abril' 'Septiembre' 'Octubre' 'Noviembre' 'Diciembre']\n",
            "\n",
            "Filtro de ventas arriba de $800 pesos:\n",
            " [ 810  860  910  990 1050]\n",
            "\n",
            "Ventas de meses \n",
            " Ene | Feb | Mar | Dic \n",
            " [[150 200 250 300]\n",
            " [180 210 230 330]\n",
            " [200 220 240 420]]\n"
          ]
        }
      ]
    }
  ]
}