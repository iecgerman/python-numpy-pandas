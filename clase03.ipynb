{
  "nbformat": 4,
  "nbformat_minor": 0,
  "metadata": {
    "colab": {
      "provenance": [],
      "authorship_tag": "ABX9TyNgEvHiGfnhYicw1cCdoKBp",
      "include_colab_link": true
    },
    "kernelspec": {
      "name": "python3",
      "display_name": "Python 3"
    },
    "language_info": {
      "name": "python"
    }
  },
  "cells": [
    {
      "cell_type": "markdown",
      "metadata": {
        "id": "view-in-github",
        "colab_type": "text"
      },
      "source": [
        "<a href=\"https://colab.research.google.com/github/iecgerman/python-numpy-pandas/blob/master/clase03.ipynb\" target=\"_parent\"><img src=\"https://colab.research.google.com/assets/colab-badge.svg\" alt=\"Open In Colab\"/></a>"
      ]
    },
    {
      "cell_type": "code",
      "execution_count": 2,
      "metadata": {
        "id": "A1KXsjtgUPwk"
      },
      "outputs": [],
      "source": [
        "# Curso de Python: NumPy y Pandas para Análisis de Datos\n",
        "\n",
        "# Arrays en NumPy"
      ]
    },
    {
      "cell_type": "code",
      "source": [
        "import numpy as np\n",
        "\n",
        "array = np.array([[1,2,3],[4,5,6]])\n",
        "print(array.ndim)\n",
        "print(array.shape)\n",
        "print(array.dtype)"
      ],
      "metadata": {
        "colab": {
          "base_uri": "https://localhost:8080/"
        },
        "id": "sAWTetd4U1o_",
        "outputId": "225e0502-7ae6-40cb-d72c-1757e56b3f41"
      },
      "execution_count": 1,
      "outputs": [
        {
          "output_type": "stream",
          "name": "stdout",
          "text": [
            "2\n",
            "(2, 3)\n",
            "int64\n"
          ]
        }
      ]
    },
    {
      "cell_type": "markdown",
      "source": [
        "dtype es un objeto en NumPy que describe el tipo de los elementos en el array.\n",
        "\n",
        "unit8 representa valoes entre 0 y 255 se usa para trabajar con colores\n",
        "\n",
        "float32 representa valores con decimales usado para calculos cientificos que ocupan una precision moderada, pero que ocupan ahorrar memoria\n",
        "\n",
        "float64 tiene doble precision que el float32 y el tipo de dato por defecto en NumPy para numeros decimales."
      ],
      "metadata": {
        "id": "Coi-TjBcWjmx"
      }
    },
    {
      "cell_type": "code",
      "source": [
        "z = np.array(3, dtype=np.uint8)\n",
        "print(z)"
      ],
      "metadata": {
        "colab": {
          "base_uri": "https://localhost:8080/"
        },
        "id": "xuu9DEPXXgig",
        "outputId": "21c9e5c5-c19c-4dc0-cbd6-678a9bd9a9e1"
      },
      "execution_count": 3,
      "outputs": [
        {
          "output_type": "stream",
          "name": "stdout",
          "text": [
            "3\n"
          ]
        }
      ]
    },
    {
      "cell_type": "code",
      "source": [
        "double_array = np.array([1,2,3], dtype='d')\n",
        "print(double_array)"
      ],
      "metadata": {
        "colab": {
          "base_uri": "https://localhost:8080/"
        },
        "id": "cflCVvtnXqen",
        "outputId": "50b784d1-2c79-4ee2-a499-0cd59bd2b6e7"
      },
      "execution_count": 4,
      "outputs": [
        {
          "output_type": "stream",
          "name": "stdout",
          "text": [
            "[1. 2. 3.]\n"
          ]
        }
      ]
    },
    {
      "cell_type": "code",
      "source": [
        "z =  z.astype(np.float64)\n",
        "print(z)"
      ],
      "metadata": {
        "colab": {
          "base_uri": "https://localhost:8080/"
        },
        "id": "k0qHaWtlYJzW",
        "outputId": "835757d6-3a59-4b90-9b53-b9f9ab63fa77"
      },
      "execution_count": 5,
      "outputs": [
        {
          "output_type": "stream",
          "name": "stdout",
          "text": [
            "3.0\n"
          ]
        }
      ]
    },
    {
      "cell_type": "code",
      "source": [
        "array = np.array([[1,2,3],[4,5,6]])\n",
        "sum = np.sum(array)\n",
        "print(sum)"
      ],
      "metadata": {
        "colab": {
          "base_uri": "https://localhost:8080/"
        },
        "id": "zctt_-t9Yglv",
        "outputId": "4acac3f0-ebb8-4d0f-88d1-3f835a5e3202"
      },
      "execution_count": 8,
      "outputs": [
        {
          "output_type": "stream",
          "name": "stdout",
          "text": [
            "21\n"
          ]
        }
      ]
    },
    {
      "cell_type": "code",
      "source": [
        "#la media\n",
        "mean = np.mean(array)\n",
        "print(mean)"
      ],
      "metadata": {
        "colab": {
          "base_uri": "https://localhost:8080/"
        },
        "id": "vyhWnChQYzdc",
        "outputId": "1940626e-2961-431d-c923-949bb0f4b0dd"
      },
      "execution_count": 9,
      "outputs": [
        {
          "output_type": "stream",
          "name": "stdout",
          "text": [
            "3.5\n"
          ]
        }
      ]
    },
    {
      "cell_type": "code",
      "source": [
        "#la desviacion estandar\n",
        "std = np.std(array)\n",
        "print(std)"
      ],
      "metadata": {
        "colab": {
          "base_uri": "https://localhost:8080/"
        },
        "id": "PhwCTEZVY824",
        "outputId": "a4ced2c7-ae91-4f33-c425-27db8335890f"
      },
      "execution_count": 10,
      "outputs": [
        {
          "output_type": "stream",
          "name": "stdout",
          "text": [
            "1.707825127659933\n"
          ]
        }
      ]
    }
  ]
}