{
  "nbformat": 4,
  "nbformat_minor": 0,
  "metadata": {
    "colab": {
      "provenance": [],
      "authorship_tag": "ABX9TyNnyyU3VvANwi9xENnjB90b",
      "include_colab_link": true
    },
    "kernelspec": {
      "name": "python3",
      "display_name": "Python 3"
    },
    "language_info": {
      "name": "python"
    }
  },
  "cells": [
    {
      "cell_type": "markdown",
      "metadata": {
        "id": "view-in-github",
        "colab_type": "text"
      },
      "source": [
        "<a href=\"https://colab.research.google.com/github/iecgerman/python-numpy-pandas/blob/master/clase04.ipynb\" target=\"_parent\"><img src=\"https://colab.research.google.com/assets/colab-badge.svg\" alt=\"Open In Colab\"/></a>"
      ]
    },
    {
      "cell_type": "code",
      "execution_count": null,
      "metadata": {
        "id": "BPkfh38G1fwz"
      },
      "outputs": [],
      "source": [
        "# Introducción al álgebra lineal con NumPy"
      ]
    },
    {
      "cell_type": "markdown",
      "source": [
        "Ejemplos aplicativos\n",
        "\n",
        "Gráficos por Computadora: Las transformaciones lineales se utilizan para rotar, escalar y traducir objetos en la pantalla.\n",
        "\n",
        "Procesamiento de Imágenes: Las matrices de convolución (kernels) se usan para aplicar filtros a las imágenes, mejorando su calidad o destacando características específicas.\n",
        "\n",
        "Aprendizaje Automático: Los algoritmos de regresión lineal, redes neuronales y otros modelos dependen en gran medida de las operaciones matriciales."
      ],
      "metadata": {
        "id": "IIckxTMp2lCa"
      }
    },
    {
      "cell_type": "code",
      "source": [
        "# Suma de matrices\n",
        "\n",
        "import numpy as np\n",
        "\n",
        "A = np.array([[1, 2], [3, 4]])\n",
        "B = np.array([[5, 6], [7, 8]])\n",
        "\n",
        "suma = A + B\n",
        "print(\"Suma de matrices:\\n\", suma)"
      ],
      "metadata": {
        "colab": {
          "base_uri": "https://localhost:8080/"
        },
        "id": "eBPDF3Ld2sGT",
        "outputId": "9454f597-bf7b-4149-d31f-d2ca235b00ab"
      },
      "execution_count": 1,
      "outputs": [
        {
          "output_type": "stream",
          "name": "stdout",
          "text": [
            "Suma de matrices:\n",
            " [[ 6  8]\n",
            " [10 12]]\n"
          ]
        }
      ]
    },
    {
      "cell_type": "code",
      "source": [
        "# Multiplicación de matrices\n",
        "\n",
        "producto = np.dot(A, B)\n",
        "print(\"Producto de matrices:\\n\", producto)"
      ],
      "metadata": {
        "colab": {
          "base_uri": "https://localhost:8080/"
        },
        "id": "-9qa9PGg3MAT",
        "outputId": "c0617ef4-8b8c-4242-bd4d-d7b84112d76b"
      },
      "execution_count": 2,
      "outputs": [
        {
          "output_type": "stream",
          "name": "stdout",
          "text": [
            "Producto de matrices:\n",
            " [[19 22]\n",
            " [43 50]]\n"
          ]
        }
      ]
    },
    {
      "cell_type": "code",
      "source": [
        "# Determinante de una matriz\n",
        "\n",
        "determinante = np.linalg.det(A)\n",
        "print(\"Determinante de A:\", determinante)"
      ],
      "metadata": {
        "colab": {
          "base_uri": "https://localhost:8080/"
        },
        "id": "-8NPNglo37Hm",
        "outputId": "2160aa19-2bd6-444a-b8b1-ee2da7d1bb09"
      },
      "execution_count": 3,
      "outputs": [
        {
          "output_type": "stream",
          "name": "stdout",
          "text": [
            "Determinante de A: -2.0000000000000004\n"
          ]
        }
      ]
    },
    {
      "cell_type": "code",
      "source": [
        "# Inversa de una matriz\n",
        "\n",
        "inversa = np.linalg.inv(A)\n",
        "print(\"Inversa de A:\\n\", inversa)"
      ],
      "metadata": {
        "colab": {
          "base_uri": "https://localhost:8080/"
        },
        "id": "oz5LU2h04Gof",
        "outputId": "9881cc30-ba78-4350-f83e-bcd18e6984d2"
      },
      "execution_count": 4,
      "outputs": [
        {
          "output_type": "stream",
          "name": "stdout",
          "text": [
            "Inversa de A:\n",
            " [[-2.   1. ]\n",
            " [ 1.5 -0.5]]\n"
          ]
        }
      ]
    },
    {
      "cell_type": "code",
      "source": [
        "# Valores y vectores propios\n",
        "\n",
        "valores_propios, vectores_propios = np.linalg.eig(A)\n",
        "print(\"Valores propios de A:\\n\", valores_propios)\n",
        "print(\"Vectores propios de A:\\n\", vectores_propios)"
      ],
      "metadata": {
        "colab": {
          "base_uri": "https://localhost:8080/"
        },
        "id": "e6b0X_9N4X8n",
        "outputId": "08dc88a9-b092-4ec8-9558-da965f329a66"
      },
      "execution_count": 5,
      "outputs": [
        {
          "output_type": "stream",
          "name": "stdout",
          "text": [
            "Valores propios de A:\n",
            " [-0.37228132  5.37228132]\n",
            "Vectores propios de A:\n",
            " [[-0.82456484 -0.41597356]\n",
            " [ 0.56576746 -0.90937671]]\n"
          ]
        }
      ]
    },
    {
      "cell_type": "code",
      "source": [
        "# Resolución de sistemas de ecuaciones lineales\n",
        "\n",
        "B = np.array([1, 2])\n",
        "X = np.linalg.solve(A, B)\n",
        "print(\"Solución del sistema AX = B:\\n\", X)"
      ],
      "metadata": {
        "colab": {
          "base_uri": "https://localhost:8080/"
        },
        "id": "tvaq_CmJ4p3-",
        "outputId": "4551b15b-1f2b-4538-a00f-ef0464a1fafb"
      },
      "execution_count": 6,
      "outputs": [
        {
          "output_type": "stream",
          "name": "stdout",
          "text": [
            "Solución del sistema AX = B:\n",
            " [0.  0.5]\n"
          ]
        }
      ]
    }
  ]
}