{
  "nbformat": 4,
  "nbformat_minor": 0,
  "metadata": {
    "colab": {
      "provenance": [],
      "authorship_tag": "ABX9TyM7mdtTqWdpI0C+rblwsVOu",
      "include_colab_link": true
    },
    "kernelspec": {
      "name": "python3",
      "display_name": "Python 3"
    },
    "language_info": {
      "name": "python"
    }
  },
  "cells": [
    {
      "cell_type": "markdown",
      "metadata": {
        "id": "view-in-github",
        "colab_type": "text"
      },
      "source": [
        "<a href=\"https://colab.research.google.com/github/iecgerman/python-numpy-pandas/blob/master/clase10.ipynb\" target=\"_parent\"><img src=\"https://colab.research.google.com/assets/colab-badge.svg\" alt=\"Open In Colab\"/></a>"
      ]
    },
    {
      "cell_type": "code",
      "execution_count": null,
      "metadata": {
        "colab": {
          "base_uri": "https://localhost:8080/"
        },
        "id": "m1NIu-CwuZCF",
        "outputId": "39a28111-bfbd-4bd4-a342-c62addc80788"
      },
      "outputs": [
        {
          "output_type": "stream",
          "name": "stdout",
          "text": [
            "[[1 2]\n",
            " [3 4]]\n",
            "[[5 6]\n",
            " [7 8]]\n",
            "[[ 6  8]\n",
            " [10 12]]\n"
          ]
        }
      ],
      "source": [
        "# Cálculos Matriciales en NumPy\n",
        "\n",
        "import numpy as np\n",
        "\n",
        "A = np.array([[1,2],[3,4]])\n",
        "B = np.array([[5,6],[7,8]])\n",
        "\n",
        "# SUMA DE MATRICES\n",
        "\n",
        "sum = A + B\n",
        "print(A)\n",
        "print(B)\n",
        "print(sum)"
      ]
    },
    {
      "cell_type": "code",
      "source": [
        "# Multiplicación\n",
        "\n",
        "product = np.dot(A,B)\n",
        "print(product)"
      ],
      "metadata": {
        "colab": {
          "base_uri": "https://localhost:8080/"
        },
        "id": "tgesqfGCvOOe",
        "outputId": "4d1a78fe-4af9-4c04-966c-05bbb7137e4d"
      },
      "execution_count": null,
      "outputs": [
        {
          "output_type": "stream",
          "name": "stdout",
          "text": [
            "[[19 22]\n",
            " [43 50]]\n"
          ]
        }
      ]
    },
    {
      "cell_type": "code",
      "source": [
        "mult = A * B\n",
        "print(A)\n",
        "print(B)\n",
        "print(mult)\n",
        "\n",
        "# creo que no es lo mismo que dot"
      ],
      "metadata": {
        "colab": {
          "base_uri": "https://localhost:8080/"
        },
        "id": "899fBUEMvZ9O",
        "outputId": "4d87d52b-f968-4e3c-d33b-6dbc735ee57e"
      },
      "execution_count": null,
      "outputs": [
        {
          "output_type": "stream",
          "name": "stdout",
          "text": [
            "[[1 2]\n",
            " [3 4]]\n",
            "[[5 6]\n",
            " [7 8]]\n",
            "[[ 5 12]\n",
            " [21 32]]\n"
          ]
        }
      ]
    },
    {
      "cell_type": "code",
      "source": [
        "A = np.array([[1,2],[3,4]])\n",
        "print(A)\n",
        "\n",
        "det_A = np.linalg.det(A)\n",
        "print(det_A)\n",
        "\n",
        "inv_A = np.linalg.inv(A)\n",
        "print(inv_A)"
      ],
      "metadata": {
        "colab": {
          "base_uri": "https://localhost:8080/"
        },
        "id": "MC66qYAIwpOo",
        "outputId": "d1d0cade-486d-4573-8493-73697681a548"
      },
      "execution_count": null,
      "outputs": [
        {
          "output_type": "stream",
          "name": "stdout",
          "text": [
            "[[1 2]\n",
            " [3 4]]\n",
            "-2.0000000000000004\n",
            "[[-2.   1. ]\n",
            " [ 1.5 -0.5]]\n"
          ]
        }
      ]
    },
    {
      "cell_type": "code",
      "source": [
        "# Resolver Ax = b\n",
        "\n",
        "b = np.array([9,11])\n",
        "x = np.linalg.solve(A,b)\n",
        "print(x)"
      ],
      "metadata": {
        "colab": {
          "base_uri": "https://localhost:8080/"
        },
        "id": "R5VxNAUBxhpN",
        "outputId": "a3060849-7abe-4425-c8ff-cc1c41150e6b"
      },
      "execution_count": null,
      "outputs": [
        {
          "output_type": "stream",
          "name": "stdout",
          "text": [
            "[-7.  8.]\n"
          ]
        }
      ]
    }
  ]
}