{
  "nbformat": 4,
  "nbformat_minor": 0,
  "metadata": {
    "colab": {
      "provenance": [],
      "authorship_tag": "ABX9TyOSolROubLK+lpAvnROAszg",
      "include_colab_link": true
    },
    "kernelspec": {
      "name": "python3",
      "display_name": "Python 3"
    },
    "language_info": {
      "name": "python"
    }
  },
  "cells": [
    {
      "cell_type": "markdown",
      "metadata": {
        "id": "view-in-github",
        "colab_type": "text"
      },
      "source": [
        "<a href=\"https://colab.research.google.com/github/iecgerman/python-numpy-pandas/blob/master/pandas_clase14_ejercicio1.ipynb\" target=\"_parent\"><img src=\"https://colab.research.google.com/assets/colab-badge.svg\" alt=\"Open In Colab\"/></a>"
      ]
    },
    {
      "cell_type": "code",
      "execution_count": 28,
      "metadata": {
        "colab": {
          "base_uri": "https://localhost:8080/"
        },
        "id": "mFQV2OEg_-Pe",
        "outputId": "c0b2e7bf-a7b6-4cce-866c-8572ac84c826"
      },
      "outputs": [
        {
          "output_type": "stream",
          "name": "stdout",
          "text": [
            "Index(['InvoiceNo', 'StockCode', 'Description', 'Quantity', 'InvoiceDate',\n",
            "       'UnitPrice', 'CustomerID', 'Country'],\n",
            "      dtype='object')\n"
          ]
        }
      ],
      "source": [
        "import pandas as pd\n",
        "\n",
        "path = '/content/online_retail.csv'\n",
        "df = pd.read_csv(path)\n",
        "\n",
        "columns_names = df.columns\n",
        "print(columns_names)\n",
        "\n",
        "# Index(['InvoiceNo', 'StockCode', 'Description', 'Quantity', 'InvoiceDate',\n",
        "#        'UnitPrice', 'CustomerID', 'Country'],\n",
        "#       dtype='object')\n"
      ]
    },
    {
      "cell_type": "code",
      "source": [
        "# imprimir solo InvoiceNo (Factura #)\n",
        "only_InvoiceNo = df['InvoiceNo']\n",
        "print(only_InvoiceNo)\n",
        "print(only_InvoiceNo[345])"
      ],
      "metadata": {
        "colab": {
          "base_uri": "https://localhost:8080/"
        },
        "id": "vJWxFUnSB6kZ",
        "outputId": "cfa42df1-6b91-41ad-b60b-8cd5eaa6458e"
      },
      "execution_count": 19,
      "outputs": [
        {
          "output_type": "stream",
          "name": "stdout",
          "text": [
            "0         536365\n",
            "1         536365\n",
            "2         536365\n",
            "3         536365\n",
            "4         536365\n",
            "           ...  \n",
            "541904    581587\n",
            "541905    581587\n",
            "541906    581587\n",
            "541907    581587\n",
            "541908    581587\n",
            "Name: InvoiceNo, Length: 541909, dtype: object\n",
            "536401\n"
          ]
        }
      ]
    },
    {
      "cell_type": "code",
      "source": [
        "only_StockCode = df['StockCode']\n",
        "print(only_StockCode)"
      ],
      "metadata": {
        "colab": {
          "base_uri": "https://localhost:8080/"
        },
        "id": "sXGbYoNBCvYO",
        "outputId": "16c23698-adbb-4cbf-bcd1-deaa684a3b65"
      },
      "execution_count": 20,
      "outputs": [
        {
          "output_type": "stream",
          "name": "stdout",
          "text": [
            "0         85123A\n",
            "1          71053\n",
            "2         84406B\n",
            "3         84029G\n",
            "4         84029E\n",
            "           ...  \n",
            "541904     22613\n",
            "541905     22899\n",
            "541906     23254\n",
            "541907     23255\n",
            "541908     22138\n",
            "Name: StockCode, Length: 541909, dtype: object\n"
          ]
        }
      ]
    },
    {
      "cell_type": "code",
      "source": [
        "only_Description = df['Description']\n",
        "print(only_Description.head(18))"
      ],
      "metadata": {
        "colab": {
          "base_uri": "https://localhost:8080/"
        },
        "id": "zU6_mY1GDTJ5",
        "outputId": "638f1b69-93a1-49f4-c3b2-1919539ec027"
      },
      "execution_count": 22,
      "outputs": [
        {
          "output_type": "stream",
          "name": "stdout",
          "text": [
            "0      WHITE HANGING HEART T-LIGHT HOLDER\n",
            "1                     WHITE METAL LANTERN\n",
            "2          CREAM CUPID HEARTS COAT HANGER\n",
            "3     KNITTED UNION FLAG HOT WATER BOTTLE\n",
            "4          RED WOOLLY HOTTIE WHITE HEART.\n",
            "5            SET 7 BABUSHKA NESTING BOXES\n",
            "6       GLASS STAR FROSTED T-LIGHT HOLDER\n",
            "7                  HAND WARMER UNION JACK\n",
            "8               HAND WARMER RED POLKA DOT\n",
            "9           ASSORTED COLOUR BIRD ORNAMENT\n",
            "10             POPPY'S PLAYHOUSE BEDROOM \n",
            "11              POPPY'S PLAYHOUSE KITCHEN\n",
            "12      FELTCRAFT PRINCESS CHARLOTTE DOLL\n",
            "13                IVORY KNITTED MUG COSY \n",
            "14     BOX OF 6 ASSORTED COLOUR TEASPOONS\n",
            "15          BOX OF VINTAGE JIGSAW BLOCKS \n",
            "16         BOX OF VINTAGE ALPHABET BLOCKS\n",
            "17               HOME BUILDING BLOCK WORD\n",
            "Name: Description, dtype: object\n"
          ]
        }
      ]
    },
    {
      "cell_type": "code",
      "source": [
        "# Imprimir solo las columnas con numeros\n",
        "\n",
        "summary = df.describe()\n",
        "print(summary)"
      ],
      "metadata": {
        "colab": {
          "base_uri": "https://localhost:8080/"
        },
        "id": "Kb9tHDxgGEUa",
        "outputId": "0d6bc52f-6ee9-4f95-9a3e-f74689f14c29"
      },
      "execution_count": 23,
      "outputs": [
        {
          "output_type": "stream",
          "name": "stdout",
          "text": [
            "            Quantity      UnitPrice     CustomerID\n",
            "count  541909.000000  541909.000000  406829.000000\n",
            "mean        9.552250       4.611114   15287.690570\n",
            "std       218.081158      96.759853    1713.600303\n",
            "min    -80995.000000  -11062.060000   12346.000000\n",
            "25%         1.000000       1.250000   13953.000000\n",
            "50%         3.000000       2.080000   15152.000000\n",
            "75%        10.000000       4.130000   16791.000000\n",
            "max     80995.000000   38970.000000   18287.000000\n"
          ]
        }
      ]
    },
    {
      "cell_type": "code",
      "source": [
        "# Imprimir columna UnitPrice\n",
        "\n",
        "precio_unitario = df['UnitPrice']\n",
        "print(precio_unitario)\n",
        "\n"
      ],
      "metadata": {
        "colab": {
          "base_uri": "https://localhost:8080/"
        },
        "id": "Wtvoe9sDGPN3",
        "outputId": "5fd438ed-c5b2-4fe1-93da-c3dd023ecc6d"
      },
      "execution_count": 29,
      "outputs": [
        {
          "output_type": "stream",
          "name": "stdout",
          "text": [
            "0         2.55\n",
            "1         3.39\n",
            "2         2.75\n",
            "3         3.39\n",
            "4         3.39\n",
            "          ... \n",
            "541904    0.85\n",
            "541905    2.10\n",
            "541906    4.15\n",
            "541907    4.15\n",
            "541908    4.95\n",
            "Name: UnitPrice, Length: 541909, dtype: float64\n"
          ]
        }
      ]
    },
    {
      "cell_type": "code",
      "source": [
        "# La media de UnitPrice\n",
        "mean_UnitPrice = precio_unitario.mean()\n",
        "print('La media es', mean_UnitPrice)\n",
        "\n",
        "# La mediana de UnitPrice\n",
        "median_UnitPrice = precio_unitario.median()\n",
        "print('La mediana es', median_UnitPrice)\n",
        "\n",
        "# Suma de toda la columna de UnitPrice\n",
        "\n",
        "sum_UnitPrice = precio_unitario.sum()\n",
        "print('La suma de todos los precios unitarios es', sum_UnitPrice)\n",
        "\n",
        "# conteo de todo sin espacios vacios\n",
        "\n",
        "count_UnitPrice = precio_unitario.count()\n",
        "print(count_UnitPrice)\n"
      ],
      "metadata": {
        "colab": {
          "base_uri": "https://localhost:8080/"
        },
        "id": "ZyKPZcziId6g",
        "outputId": "cee7f3ed-c049-448f-e6cd-ad922141aa85"
      },
      "execution_count": 34,
      "outputs": [
        {
          "output_type": "stream",
          "name": "stdout",
          "text": [
            "La media es 4.611113626088513\n",
            "La mediana es 2.08\n",
            "La suma de todos los precios unitarios es 2498803.974\n",
            "541909\n"
          ]
        }
      ]
    }
  ]
}