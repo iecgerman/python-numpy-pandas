{
  "nbformat": 4,
  "nbformat_minor": 0,
  "metadata": {
    "colab": {
      "provenance": [],
      "authorship_tag": "ABX9TyO70llsS/DTYC/q2RaUGlV9",
      "include_colab_link": true
    },
    "kernelspec": {
      "name": "python3",
      "display_name": "Python 3"
    },
    "language_info": {
      "name": "python"
    }
  },
  "cells": [
    {
      "cell_type": "markdown",
      "metadata": {
        "id": "view-in-github",
        "colab_type": "text"
      },
      "source": [
        "<a href=\"https://colab.research.google.com/github/iecgerman/python-numpy-pandas/blob/master/clase06.ipynb\" target=\"_parent\"><img src=\"https://colab.research.google.com/assets/colab-badge.svg\" alt=\"Open In Colab\"/></a>"
      ]
    },
    {
      "cell_type": "code",
      "source": [
        "# Broadcasting y Operaciones Lógicas en NumPy"
      ],
      "metadata": {
        "id": "B6DF9urBV07c"
      },
      "execution_count": null,
      "outputs": []
    },
    {
      "cell_type": "code",
      "source": [
        "import numpy as np\n",
        "\n",
        "prices = np.array([100,200,300])\n",
        "discount = np.array([0.9])\n",
        "\n",
        "discount_prices = prices * discount\n",
        "print(discount_prices)"
      ],
      "metadata": {
        "colab": {
          "base_uri": "https://localhost:8080/"
        },
        "id": "flowGKquV4MS",
        "outputId": "78eaa9c3-a9a0-4ee3-cc5e-466fc65c4ac5"
      },
      "execution_count": 5,
      "outputs": [
        {
          "output_type": "stream",
          "name": "stdout",
          "text": [
            "[ 90. 180. 270.]\n"
          ]
        }
      ]
    },
    {
      "cell_type": "code",
      "source": [
        "prices = np.random.randint(100,500, size=(5,3))\n",
        "discount = np.array([.9,.8,.7])\n",
        "discount_prices = prices * discount\n",
        "print(prices)\n",
        "print(discount_prices)"
      ],
      "metadata": {
        "colab": {
          "base_uri": "https://localhost:8080/"
        },
        "id": "MctJUb48Xm2F",
        "outputId": "d732e84f-4f44-453e-cf41-02f9a9bf5441"
      },
      "execution_count": 53,
      "outputs": [
        {
          "output_type": "stream",
          "name": "stdout",
          "text": [
            "[[296 153 487]\n",
            " [167 178 155]\n",
            " [484 296 200]\n",
            " [401 453 265]\n",
            " [437 499 280]]\n",
            "[[266.4 122.4 340.9]\n",
            " [150.3 142.4 108.5]\n",
            " [435.6 236.8 140. ]\n",
            " [360.9 362.4 185.5]\n",
            " [393.3 399.2 196. ]]\n"
          ]
        }
      ]
    },
    {
      "cell_type": "code",
      "source": [
        "array =  np.array([1,2,3,4,5])\n",
        "print(np.all(array > 9))"
      ],
      "metadata": {
        "colab": {
          "base_uri": "https://localhost:8080/"
        },
        "id": "uX0jpjC3ZsRk",
        "outputId": "fc0e7f8b-50ec-4df4-81f7-19f5f0bdcae2"
      },
      "execution_count": 20,
      "outputs": [
        {
          "output_type": "stream",
          "name": "stdout",
          "text": [
            "False\n"
          ]
        }
      ]
    },
    {
      "cell_type": "code",
      "source": [
        "print(np.any(array > 4))"
      ],
      "metadata": {
        "colab": {
          "base_uri": "https://localhost:8080/"
        },
        "id": "lwAGLX7saB7H",
        "outputId": "7731187d-59a6-4765-9ce2-cfe56796cd31"
      },
      "execution_count": 21,
      "outputs": [
        {
          "output_type": "stream",
          "name": "stdout",
          "text": [
            "True\n"
          ]
        }
      ]
    },
    {
      "cell_type": "code",
      "source": [
        "array_a = np.array([1,2,3])\n",
        "array_b = np.array([4,5,6])\n",
        "concatenated = np.concatenate((array_a, array_b))\n",
        "print(concatenated)"
      ],
      "metadata": {
        "colab": {
          "base_uri": "https://localhost:8080/"
        },
        "id": "cvB1Lzl6aZ5E",
        "outputId": "3e54b2f2-ebce-449e-e188-879de91e8c01"
      },
      "execution_count": 22,
      "outputs": [
        {
          "output_type": "stream",
          "name": "stdout",
          "text": [
            "[1 2 3 4 5 6]\n"
          ]
        }
      ]
    },
    {
      "cell_type": "code",
      "source": [
        "stacked_v = np.vstack((array_a, array_b))\n",
        "print(stacked_v)"
      ],
      "metadata": {
        "colab": {
          "base_uri": "https://localhost:8080/"
        },
        "id": "U4S168_JbBLl",
        "outputId": "18efa0d0-096f-4226-eafa-02e96d9df04e"
      },
      "execution_count": 24,
      "outputs": [
        {
          "output_type": "stream",
          "name": "stdout",
          "text": [
            "[[1 2 3]\n",
            " [4 5 6]]\n"
          ]
        }
      ]
    },
    {
      "cell_type": "code",
      "source": [
        "#STACKING\n",
        "\n",
        "stacked_h = np.hstack((array_a, array_b))\n",
        "print(stacked_h)"
      ],
      "metadata": {
        "colab": {
          "base_uri": "https://localhost:8080/"
        },
        "id": "__4VogaWboCe",
        "outputId": "9ddb28eb-8eaf-4d2e-e3a7-0ecd113e730d"
      },
      "execution_count": 25,
      "outputs": [
        {
          "output_type": "stream",
          "name": "stdout",
          "text": [
            "[1 2 3 4 5 6]\n"
          ]
        }
      ]
    },
    {
      "cell_type": "code",
      "source": [
        "#SPLIT\n",
        "\n",
        "array_c = np.arange(1,16)\n",
        "split_array = np.split(array_c,3)\n",
        "print(array_c)\n",
        "print(split_array)"
      ],
      "metadata": {
        "colab": {
          "base_uri": "https://localhost:8080/"
        },
        "id": "TorVYYgJb0dm",
        "outputId": "6fd9a3c7-176e-4e4e-a7bf-6dd2cd9491b8"
      },
      "execution_count": 39,
      "outputs": [
        {
          "output_type": "stream",
          "name": "stdout",
          "text": [
            "[ 1  2  3  4  5  6  7  8  9 10 11 12 13 14 15]\n",
            "[array([1, 2, 3, 4, 5]), array([ 6,  7,  8,  9, 10]), array([11, 12, 13, 14, 15])]\n"
          ]
        }
      ]
    }
  ]
}