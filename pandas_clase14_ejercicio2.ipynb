{
  "nbformat": 4,
  "nbformat_minor": 0,
  "metadata": {
    "colab": {
      "provenance": [],
      "authorship_tag": "ABX9TyOAIc5+XUiiyD+sKuIcTMWQ",
      "include_colab_link": true
    },
    "kernelspec": {
      "name": "python3",
      "display_name": "Python 3"
    },
    "language_info": {
      "name": "python"
    }
  },
  "cells": [
    {
      "cell_type": "markdown",
      "metadata": {
        "id": "view-in-github",
        "colab_type": "text"
      },
      "source": [
        "<a href=\"https://colab.research.google.com/github/iecgerman/python-numpy-pandas/blob/master/pandas_clase14_ejercicio2.ipynb\" target=\"_parent\"><img src=\"https://colab.research.google.com/assets/colab-badge.svg\" alt=\"Open In Colab\"/></a>"
      ]
    },
    {
      "cell_type": "code",
      "execution_count": null,
      "metadata": {
        "id": "Po7ZJoX3MhMe"
      },
      "outputs": [],
      "source": [
        "# Curso de Python para Ciencia de Datos\n",
        "\n",
        "# Clase 14 - Estructuras de Datos en Pandas y Funciones - ejercicio 2"
      ]
    },
    {
      "cell_type": "code",
      "source": [
        "import pandas as pd\n",
        "\n",
        "from google.colab import drive\n",
        "\n",
        "# montar Google Drive\n",
        "drive.mount('/content/drive')\n",
        "\n",
        "# Mounted at /content/drive\n",
        "\n",
        "# Especificar la ruta del archivo den Google Drive\n",
        "path = '/content/drive/MyDrive/Colab Notebooks/Diabetes-Data.csv'\n",
        "\n",
        "# leer el archivo CSV desde google Drive\n",
        "df = pd.read_csv(path)\n",
        "\n",
        "# imprimir las primeras 10 filas de DataFrame\n",
        "print(df.head(10))"
      ],
      "metadata": {
        "colab": {
          "base_uri": "https://localhost:8080/"
        },
        "id": "CQb_XG6zM1pi",
        "outputId": "ce51bb1e-c63f-443a-d69e-a1bfc86f379e"
      },
      "execution_count": 4,
      "outputs": [
        {
          "output_type": "stream",
          "name": "stdout",
          "text": [
            "Drive already mounted at /content/drive; to attempt to forcibly remount, call drive.mount(\"/content/drive\", force_remount=True).\n",
            "   Id  Pregnancies  Glucose  BloodPressure  SkinThickness  Insulin   BMI  \\\n",
            "0   1            6      148             72             35        0  33.6   \n",
            "1   2            1       85             66             29        0  26.6   \n",
            "2   3            8      183             64              0        0  23.3   \n",
            "3   4            1       89             66             23       94  28.1   \n",
            "4   5            0      137             40             35      168  43.1   \n",
            "5   6            5      116             74              0        0  25.6   \n",
            "6   7            3       78             50             32       88  31.0   \n",
            "7   8           10      115              0              0        0  35.3   \n",
            "8   9            2      197             70             45      543  30.5   \n",
            "9  10            8      125             96              0        0   0.0   \n",
            "\n",
            "   DiabetesPedigreeFunction  Age  Outcome  \n",
            "0                     0.627   50        1  \n",
            "1                     0.351   31        0  \n",
            "2                     0.672   32        1  \n",
            "3                     0.167   21        0  \n",
            "4                     2.288   33        1  \n",
            "5                     0.201   30        0  \n",
            "6                     0.248   26        1  \n",
            "7                     0.134   29        0  \n",
            "8                     0.158   53        1  \n",
            "9                     0.232   54        1  \n"
          ]
        }
      ]
    },
    {
      "cell_type": "code",
      "source": [
        "# Imprimir sólo el nombre de las columnas\n",
        "\n",
        "columns_names = df.columns\n",
        "print(columns_names)\n",
        "\n",
        "# Index(['Id', 'Pregnancies', 'Glucose', 'BloodPressure', 'SkinThickness',\n",
        "#        'Insulin', 'BMI', 'DiabetesPedigreeFunction', 'Age', 'Outcome'],\n",
        "#       dtype='object')"
      ],
      "metadata": {
        "colab": {
          "base_uri": "https://localhost:8080/"
        },
        "id": "UbWwzbr6OXR5",
        "outputId": "c0d3d930-a1cc-4739-f428-7d53b6035453"
      },
      "execution_count": 6,
      "outputs": [
        {
          "output_type": "stream",
          "name": "stdout",
          "text": [
            "Index(['Id', 'Pregnancies', 'Glucose', 'BloodPressure', 'SkinThickness',\n",
            "       'Insulin', 'BMI', 'DiabetesPedigreeFunction', 'Age', 'Outcome'],\n",
            "      dtype='object')\n"
          ]
        }
      ]
    },
    {
      "cell_type": "code",
      "source": [
        "# Saber cuantas filas y columanas tenemos\n",
        "\n",
        "num_rows, num_columns = df.shape\n",
        "print('Número de filas', num_rows)\n",
        "print('Número de columnas', num_columns)\n",
        "\n",
        "# Número de filas 2768\n",
        "# Número de columnas 10"
      ],
      "metadata": {
        "colab": {
          "base_uri": "https://localhost:8080/"
        },
        "id": "jM8Ll-E-Oytn",
        "outputId": "ea975876-e9e1-4160-b5f7-6dc959b6be2e"
      },
      "execution_count": 7,
      "outputs": [
        {
          "output_type": "stream",
          "name": "stdout",
          "text": [
            "Número de filas 2768\n",
            "Número de columnas 10\n"
          ]
        }
      ]
    },
    {
      "cell_type": "code",
      "source": [
        "# Imprimir solo la columna de Glucose\n",
        "\n",
        "Glucose_Column = df['Glucose']\n",
        "print(Glucose_Column)"
      ],
      "metadata": {
        "colab": {
          "base_uri": "https://localhost:8080/"
        },
        "id": "CbadhYwDQegN",
        "outputId": "18bfa1a2-2797-4d29-8a27-a336ff26cf46"
      },
      "execution_count": 9,
      "outputs": [
        {
          "output_type": "stream",
          "name": "stdout",
          "text": [
            "0       148\n",
            "1        85\n",
            "2       183\n",
            "3        89\n",
            "4       137\n",
            "       ... \n",
            "2763     75\n",
            "2764    179\n",
            "2765     85\n",
            "2766    129\n",
            "2767     81\n",
            "Name: Glucose, Length: 2768, dtype: int64\n"
          ]
        }
      ]
    },
    {
      "cell_type": "code",
      "source": [
        "# Cual es la media de Glucosa de estas personas\n",
        "\n",
        "mean_Glucose = Glucose_Column.mean()\n",
        "print('El promedio que tienen estas personas de Glucosa es', \"{:.2f}\".format(mean_Glucose))\n",
        "# print(\"{:.2f}\".format(a)) lo saque de https://github.com/iecgerman/10002-python/blob/master/clase08.py\n"
      ],
      "metadata": {
        "colab": {
          "base_uri": "https://localhost:8080/"
        },
        "id": "Q-iQvH4WPWU-",
        "outputId": "22e67139-39b3-443c-e13e-647cd2ffa008"
      },
      "execution_count": 15,
      "outputs": [
        {
          "output_type": "stream",
          "name": "stdout",
          "text": [
            "El promedio que tienen estas personas de Glucosa es 121.10\n"
          ]
        }
      ]
    },
    {
      "cell_type": "code",
      "source": [
        "# Obtener la media de todas las columnas\n",
        "\n",
        "df_mean = df.mean()\n",
        "#print(\"{:.2f}\".format(df_mean))\n",
        "print(df_mean)"
      ],
      "metadata": {
        "colab": {
          "base_uri": "https://localhost:8080/"
        },
        "id": "iOckQEc6SzFs",
        "outputId": "a568040f-e825-469e-8e34-8295bb256154"
      },
      "execution_count": 29,
      "outputs": [
        {
          "output_type": "stream",
          "name": "stdout",
          "text": [
            "Id                          1384.500000\n",
            "Pregnancies                    3.742775\n",
            "Glucose                      121.102601\n",
            "BloodPressure                 69.134393\n",
            "SkinThickness                 20.824422\n",
            "Insulin                       80.127890\n",
            "BMI                           32.137392\n",
            "DiabetesPedigreeFunction       0.471193\n",
            "Age                           33.132225\n",
            "Outcome                        0.343931\n",
            "dtype: float64\n"
          ]
        }
      ]
    },
    {
      "cell_type": "code",
      "source": [
        "# imprimir solo columnas con numeros\n",
        "\n",
        "solo_numeros = df.describe()\n",
        "print(solo_numeros)"
      ],
      "metadata": {
        "colab": {
          "base_uri": "https://localhost:8080/"
        },
        "id": "EUq5YGipUtYh",
        "outputId": "3ec1838f-4605-4148-d0fd-255282fe27fe"
      },
      "execution_count": 34,
      "outputs": [
        {
          "output_type": "stream",
          "name": "stdout",
          "text": [
            "                Id  Pregnancies      Glucose  BloodPressure  SkinThickness  \\\n",
            "count  2768.000000  2768.000000  2768.000000    2768.000000    2768.000000   \n",
            "mean   1384.500000     3.742775   121.102601      69.134393      20.824422   \n",
            "std     799.197097     3.323801    32.036508      19.231438      16.059596   \n",
            "min       1.000000     0.000000     0.000000       0.000000       0.000000   \n",
            "25%     692.750000     1.000000    99.000000      62.000000       0.000000   \n",
            "50%    1384.500000     3.000000   117.000000      72.000000      23.000000   \n",
            "75%    2076.250000     6.000000   141.000000      80.000000      32.000000   \n",
            "max    2768.000000    17.000000   199.000000     122.000000     110.000000   \n",
            "\n",
            "           Insulin          BMI  DiabetesPedigreeFunction          Age  \\\n",
            "count  2768.000000  2768.000000               2768.000000  2768.000000   \n",
            "mean     80.127890    32.137392                  0.471193    33.132225   \n",
            "std     112.301933     8.076127                  0.325669    11.777230   \n",
            "min       0.000000     0.000000                  0.078000    21.000000   \n",
            "25%       0.000000    27.300000                  0.244000    24.000000   \n",
            "50%      37.000000    32.200000                  0.375000    29.000000   \n",
            "75%     130.000000    36.625000                  0.624000    40.000000   \n",
            "max     846.000000    80.600000                  2.420000    81.000000   \n",
            "\n",
            "           Outcome  \n",
            "count  2768.000000  \n",
            "mean      0.343931  \n",
            "std       0.475104  \n",
            "min       0.000000  \n",
            "25%       0.000000  \n",
            "50%       0.000000  \n",
            "75%       1.000000  \n",
            "max       1.000000  \n"
          ]
        }
      ]
    },
    {
      "cell_type": "code",
      "source": [
        "# imprimir solo la columna de Pregnancies\n",
        "\n",
        "pregnanciesColumn = df['Pregnancies']\n",
        "print(pregnanciesColumn)"
      ],
      "metadata": {
        "colab": {
          "base_uri": "https://localhost:8080/"
        },
        "id": "ASxkc0d2WcxR",
        "outputId": "797be92c-d135-4e2c-8bf2-a7b4a8a39b97"
      },
      "execution_count": 35,
      "outputs": [
        {
          "output_type": "stream",
          "name": "stdout",
          "text": [
            "0       6\n",
            "1       1\n",
            "2       8\n",
            "3       1\n",
            "4       0\n",
            "       ..\n",
            "2763    2\n",
            "2764    8\n",
            "2765    6\n",
            "2766    0\n",
            "2767    2\n",
            "Name: Pregnancies, Length: 2768, dtype: int64\n"
          ]
        }
      ]
    },
    {
      "cell_type": "code",
      "source": [
        "# Otener el conteo, filas, registros de todos los embarazos que ya sabemos que es 2768 por describe()\n",
        "\n",
        "pregnanciesCount = pregnanciesColumn.count()\n",
        "print('total de mujeres que se han embarazado', pregnanciesCount)\n",
        "\n",
        "pregnanciesSum = pregnanciesColumn.sum()\n",
        "print('suma de todos los embarazos contados', pregnanciesSum)"
      ],
      "metadata": {
        "colab": {
          "base_uri": "https://localhost:8080/"
        },
        "id": "t-r2f55rXERv",
        "outputId": "8d885eaa-e6dc-41f9-d4e7-d6d1d7d2a302"
      },
      "execution_count": 40,
      "outputs": [
        {
          "output_type": "stream",
          "name": "stdout",
          "text": [
            "total de mujeres que se han embarazado 2768\n",
            "suma de todos los embarazos contados 10360\n"
          ]
        }
      ]
    },
    {
      "cell_type": "code",
      "source": [
        "# persona con el maximo numero de embarazos\n",
        "\n",
        "pregnanciesMax = pregnanciesColumn.max()\n",
        "print('El máximo número de embarazos que tuvo una persona fue de', pregnanciesMax, 'embarazos')"
      ],
      "metadata": {
        "colab": {
          "base_uri": "https://localhost:8080/"
        },
        "id": "CSmKQlYdYwZQ",
        "outputId": "d98c4aca-77b6-4a25-d903-ec6ffc81ddc6"
      },
      "execution_count": 43,
      "outputs": [
        {
          "output_type": "stream",
          "name": "stdout",
          "text": [
            "El máximo número de embarazos que tuvo una persona fue de 17 embarazos\n"
          ]
        }
      ]
    }
  ]
}