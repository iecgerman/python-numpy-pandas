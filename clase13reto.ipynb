{
  "nbformat": 4,
  "nbformat_minor": 0,
  "metadata": {
    "colab": {
      "provenance": [],
      "authorship_tag": "ABX9TyNdyKj+CzCaMFnXX3QzPGCt",
      "include_colab_link": true
    },
    "kernelspec": {
      "name": "python3",
      "display_name": "Python 3"
    },
    "language_info": {
      "name": "python"
    }
  },
  "cells": [
    {
      "cell_type": "markdown",
      "metadata": {
        "id": "view-in-github",
        "colab_type": "text"
      },
      "source": [
        "<a href=\"https://colab.research.google.com/github/iecgerman/python-numpy-pandas/blob/master/clase13reto.ipynb\" target=\"_parent\"><img src=\"https://colab.research.google.com/assets/colab-badge.svg\" alt=\"Open In Colab\"/></a>"
      ]
    },
    {
      "cell_type": "code",
      "execution_count": 29,
      "metadata": {
        "colab": {
          "base_uri": "https://localhost:8080/"
        },
        "id": "_4Ua8lD2MFBY",
        "outputId": "644ffad6-01ca-43ef-9ae1-d062e8e9a0fa"
      },
      "outputs": [
        {
          "output_type": "stream",
          "name": "stdout",
          "text": [
            "<class 'pandas.core.frame.DataFrame'>\n",
            "    Rank        Country Country Code  Gold  Silver  Bronze  Total\n",
            "0      1  United States           US    40      44      42    126\n",
            "1      2          China          CHN    40      27      24     91\n",
            "2      3          Japan          JPN    20      12      13     45\n",
            "3      4      Australia          AUS    18      19      16     53\n",
            "4      5         France          FRA    16      26      22     64\n",
            "..   ...            ...          ...   ...     ...     ...    ...\n",
            "86    84           Peru          PER     0       0       1      1\n",
            "87    84          Qatar          QAT     0       0       1      1\n",
            "88    84      Singapore          SIN     0       0       1      1\n",
            "89    84       Slovakia          SVK     0       0       1      1\n",
            "90    84         Zambia          ZAM     0       0       1      1\n",
            "\n",
            "[91 rows x 7 columns]\n"
          ]
        }
      ],
      "source": [
        "# Reto de Pandas para Manipulación de Datos\n",
        "\n",
        "import pandas as pd\n",
        "\n",
        "path = '/content/olympics2024.csv'\n",
        "df = pd.read_csv(path)\n",
        "print(type(df))\n",
        "print(df)"
      ]
    }
  ]
}