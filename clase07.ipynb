{
  "nbformat": 4,
  "nbformat_minor": 0,
  "metadata": {
    "colab": {
      "provenance": [],
      "authorship_tag": "ABX9TyMp6HGSowJASjecPY0EiIg8",
      "include_colab_link": true
    },
    "kernelspec": {
      "name": "python3",
      "display_name": "Python 3"
    },
    "language_info": {
      "name": "python"
    }
  },
  "cells": [
    {
      "cell_type": "markdown",
      "metadata": {
        "id": "view-in-github",
        "colab_type": "text"
      },
      "source": [
        "<a href=\"https://colab.research.google.com/github/iecgerman/python-numpy-pandas/blob/master/clase07.ipynb\" target=\"_parent\"><img src=\"https://colab.research.google.com/assets/colab-badge.svg\" alt=\"Open In Colab\"/></a>"
      ]
    },
    {
      "cell_type": "code",
      "execution_count": null,
      "metadata": {
        "colab": {
          "base_uri": "https://localhost:8080/"
        },
        "outputId": "e8c8a886-39a0-41cb-ea2c-3fe3eacde35e",
        "id": "RGoQUN72X9Nr"
      },
      "outputs": [
        {
          "output_type": "stream",
          "name": "stdout",
          "text": [
            "['bueno' 'excelente' 'malo']\n"
          ]
        }
      ],
      "source": [
        "# Elementos Únicos y sus Conteos: Copias y Vistas\n",
        "\n",
        "import numpy as np\n",
        "\n",
        "survey_responses = np.array([\"bueno\", \"excelente\", \"malo\",\n",
        "                             \"bueno\", \"malo\", \"excelente\",\n",
        "                             \"bueno\", \"bueno\", \"malo\",\n",
        "                             \"excelente\", \"excelente\", \"excelente\"])\n",
        "\n",
        "print(np.unique(survey_responses))"
      ]
    },
    {
      "cell_type": "code",
      "execution_count": null,
      "metadata": {
        "colab": {
          "base_uri": "https://localhost:8080/"
        },
        "outputId": "e8c8a886-39a0-41cb-ea2c-3fe3eacde35e",
        "id": "tdtw3Q10X-aI"
      },
      "outputs": [
        {
          "output_type": "stream",
          "name": "stdout",
          "text": [
            "['bueno' 'excelente' 'malo']\n"
          ]
        }
      ],
      "source": [
        "# Elementos Únicos y sus Conteos: Copias y Vistas\n",
        "\n",
        "import numpy as np\n",
        "\n",
        "survey_responses = np.array([\"bueno\", \"excelente\", \"malo\",\n",
        "                             \"bueno\", \"malo\", \"excelente\",\n",
        "                             \"bueno\", \"bueno\", \"malo\",\n",
        "                             \"excelente\", \"excelente\", \"excelente\"])\n",
        "\n",
        "print(np.unique(survey_responses))"
      ]
    },
    {
      "cell_type": "code",
      "execution_count": 11,
      "metadata": {
        "colab": {
          "base_uri": "https://localhost:8080/"
        },
        "id": "qQjALDx3Ml95",
        "outputId": "e8c8a886-39a0-41cb-ea2c-3fe3eacde35e"
      },
      "outputs": [
        {
          "output_type": "stream",
          "name": "stdout",
          "text": [
            "['bueno' 'excelente' 'malo']\n"
          ]
        }
      ],
      "source": [
        "# Elementos Únicos y sus Conteos: Copias y Vistas\n",
        "\n",
        "import numpy as np\n",
        "\n",
        "survey_responses = np.array([\"bueno\", \"excelente\", \"malo\",\n",
        "                             \"bueno\", \"malo\", \"excelente\",\n",
        "                             \"bueno\", \"bueno\", \"malo\",\n",
        "                             \"excelente\", \"excelente\", \"excelente\"])\n",
        "\n",
        "print(np.unique(survey_responses))"
      ]
    },
    {
      "cell_type": "code",
      "source": [
        "unique_elements, counts = np.unique(survey_responses, return_counts=True)\n",
        "print(unique_elements)\n",
        "print(counts)"
      ],
      "metadata": {
        "colab": {
          "base_uri": "https://localhost:8080/"
        },
        "id": "lRb2nmlmNw5s",
        "outputId": "024296b5-3eaa-4f86-820a-53ff04739076"
      },
      "execution_count": 12,
      "outputs": [
        {
          "output_type": "stream",
          "name": "stdout",
          "text": [
            "['bueno' 'excelente' 'malo']\n",
            "[4 5 3]\n"
          ]
        }
      ]
    },
    {
      "cell_type": "markdown",
      "source": [
        "Elementos Únicos y Conteos:\n",
        "\n",
        "Utiliza **np.unique** para encontrar elementos únicos y sus conteos en arrays unidimensionales y multidimensionales."
      ],
      "metadata": {
        "id": "y3_W3DQzNtC4"
      }
    },
    {
      "cell_type": "code",
      "source": [
        "# Ejemplo con ejercicio de clase 6 de Broadcasting\n",
        "\n",
        "prices = np.random.randint(1, 99, size=(10,10))\n",
        "print(prices)\n",
        "\n",
        "unique_elements_in_prices, counts = np.unique(prices, return_counts=True)\n",
        "print(unique_elements_in_prices)\n",
        "print(counts)"
      ],
      "metadata": {
        "colab": {
          "base_uri": "https://localhost:8080/"
        },
        "id": "-MbGHCvZQv_c",
        "outputId": "33ffd95a-3658-4936-e009-3210b61c0779"
      },
      "execution_count": 15,
      "outputs": [
        {
          "output_type": "stream",
          "name": "stdout",
          "text": [
            "[[86 98 61  8 28 74 92 83 17  6]\n",
            " [43 40 61 23 46 39 77 95 69 60]\n",
            " [77 89 30 49 16 82 24 96 88 20]\n",
            " [79 27  5 17 24 19  6 90 26 14]\n",
            " [48 90 62 37  1 82 81 17  4 18]\n",
            " [21 83 40  5 47 47  4  7 44 70]\n",
            " [62 41 61 94 85 59 87 57 74 79]\n",
            " [68 60  3 90 50 45 93 73 60  4]\n",
            " [60 83  6 50 45 76 97 51 48 58]\n",
            " [ 8 69 49 27  5 25 17 38 56 12]]\n",
            "[ 1  3  4  5  6  7  8 12 14 16 17 18 19 20 21 23 24 25 26 27 28 30 37 38\n",
            " 39 40 41 43 44 45 46 47 48 49 50 51 56 57 58 59 60 61 62 68 69 70 73 74\n",
            " 76 77 79 81 82 83 85 86 87 88 89 90 92 93 94 95 96 97 98]\n",
            "[1 1 3 3 3 1 2 1 1 1 4 1 1 1 1 1 2 1 1 2 1 1 1 1 1 2 1 1 1 2 1 2 2 2 2 1 1\n",
            " 1 1 1 4 3 2 1 2 1 1 2 1 2 2 1 2 3 1 1 1 1 1 3 1 1 1 1 1 1 1]\n"
          ]
        }
      ]
    },
    {
      "cell_type": "code",
      "source": [
        "# VISTAS\n",
        "\n",
        "array_x = np.arange(10)\n",
        "print(array_x)\n",
        "view_y = array_x[1:3]\n",
        "print(view_y)\n",
        "\n",
        "array_x[1:3] = [10,11]\n",
        "print(array_x)\n",
        "print(view_y)"
      ],
      "metadata": {
        "colab": {
          "base_uri": "https://localhost:8080/"
        },
        "id": "myYedN2MSv4N",
        "outputId": "f779a8b7-540e-4a13-e9d2-e6068fd6ae43"
      },
      "execution_count": 19,
      "outputs": [
        {
          "output_type": "stream",
          "name": "stdout",
          "text": [
            "[0 1 2 3 4 5 6 7 8 9]\n",
            "[1 2]\n",
            "[ 0 10 11  3  4  5  6  7  8  9]\n",
            "[10 11]\n"
          ]
        }
      ]
    },
    {
      "cell_type": "code",
      "source": [
        "# COPIAS\n",
        "\n",
        "array_x = np.arange(10)\n",
        "copy_x = array_x[[1,2]]\n",
        "print(array_x)\n",
        "print(copy_x)\n",
        "array_x[1:3] = [10,11]\n",
        "print(array_x)\n",
        "print(copy_x)"
      ],
      "metadata": {
        "colab": {
          "base_uri": "https://localhost:8080/"
        },
        "id": "sJu_NJFCUA7G",
        "outputId": "4a2f5df4-12ae-44f9-e61a-7614bc7d50f1"
      },
      "execution_count": 23,
      "outputs": [
        {
          "output_type": "stream",
          "name": "stdout",
          "text": [
            "[0 1 2 3 4 5 6 7 8 9]\n",
            "[1 2]\n",
            "[ 0 10 11  3  4  5  6  7  8  9]\n",
            "[1 2]\n"
          ]
        }
      ]
    },
    {
      "cell_type": "markdown",
      "source": [
        "Copias y Vistas:\n",
        "\n",
        "Las **vistas** son referencias al mismo bloque de memoria que el array original, mientras que las **copias** son réplicas independientes. Cambios en una vista afectan al array original, pero cambios en una copia no."
      ],
      "metadata": {
        "id": "yNqYELDXVkLG"
      }
    },
    {
      "cell_type": "markdown",
      "source": [
        "Las **vistas** comparten la memoria con el array original y las modificaciones hechas en la vista afectan a ese array, en cambio, La **copia** duplica los datos del array y las modificaciones hechas en la copia no afectan al array original"
      ],
      "metadata": {
        "id": "owbwsJeFXtJ3"
      }
    }
  ]
}