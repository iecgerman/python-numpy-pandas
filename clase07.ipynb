{
  "nbformat": 4,
  "nbformat_minor": 0,
  "metadata": {
    "colab": {
      "provenance": [],
      "authorship_tag": "ABX9TyOmamoK9aKSt8joFKDSR+iH",
      "include_colab_link": true
    },
    "kernelspec": {
      "name": "python3",
      "display_name": "Python 3"
    },
    "language_info": {
      "name": "python"
    }
  },
  "cells": [
    {
      "cell_type": "markdown",
      "metadata": {
        "id": "view-in-github",
        "colab_type": "text"
      },
      "source": [
        "<a href=\"https://colab.research.google.com/github/iecgerman/python-numpy-pandas/blob/master/clase07.ipynb\" target=\"_parent\"><img src=\"https://colab.research.google.com/assets/colab-badge.svg\" alt=\"Open In Colab\"/></a>"
      ]
    },
    {
      "cell_type": "code",
      "execution_count": 34,
      "metadata": {
        "colab": {
          "base_uri": "https://localhost:8080/"
        },
        "outputId": "f1bd4fd1-c967-45dd-a903-71f9d8974811",
        "id": "RGoQUN72X9Nr"
      },
      "outputs": [
        {
          "output_type": "stream",
          "name": "stdout",
          "text": [
            "['bueno' 'excelente' 'malo']\n"
          ]
        }
      ],
      "source": [
        "# Elementos Únicos y sus Conteos: Copias y Vistas\n",
        "\n",
        "import numpy as np\n",
        "\n",
        "survey_responses = np.array([\"bueno\", \"excelente\", \"malo\",\n",
        "                             \"bueno\", \"malo\", \"excelente\",\n",
        "                             \"bueno\", \"bueno\", \"malo\",\n",
        "                             \"excelente\", \"excelente\", \"excelente\"])\n",
        "\n",
        "print(np.unique(survey_responses))\n"
      ]
    },
    {
      "cell_type": "code",
      "source": [
        "unique_elements, counts = np.unique(survey_responses, return_counts=True)\n",
        "print(unique_elements)\n",
        "print(counts)\n",
        "\n",
        "print(\"\\nCréditos a Rodolfo Turpo R. - https://platzi.com/comentario/5194168/\")\n",
        "counts_dict = dict(zip(survey_responses,counts))\n",
        "print(counts_dict)\n",
        "\n",
        "print(\"\\n quería imprimir algo asi como en este ejemplo https://es.stackoverflow.com/questions/438163/python-imprimir-un-diccionario-en-columnas\")\n",
        "for valor in counts_dict:\n",
        "  print(f\"{valor[0:9]:<15} {valor[0:9]}\")\n",
        "for valor in counts_dict:\n",
        "  print(f\"{valor[0:9]:<15} {counts_dict.values()}\")\n",
        "for clave in counts_dict:\n",
        "  print(clave)\n",
        "for valor in counts:\n",
        "  print(valor)\n",
        "\n",
        "print(\"\\nhttps://github.com/iecgerman/10002-python/blob/master/clase14.py\")\n",
        "pares = counts_dict.items()\n",
        "print(pares)"
      ],
      "metadata": {
        "colab": {
          "base_uri": "https://localhost:8080/"
        },
        "id": "lRb2nmlmNw5s",
        "outputId": "ab08c0fa-8495-44cc-f1e8-dbb3e9440645"
      },
      "execution_count": 61,
      "outputs": [
        {
          "output_type": "stream",
          "name": "stdout",
          "text": [
            "['bueno' 'excelente' 'malo']\n",
            "[4 5 3]\n",
            "\n",
            "Créditos a Rodolfo Turpo R. - https://platzi.com/comentario/5194168/\n",
            "{'bueno': 4, 'excelente': 5, 'malo': 3}\n",
            "\n",
            " quería imprimir algo asi como en este ejemplo https://es.stackoverflow.com/questions/438163/python-imprimir-un-diccionario-en-columnas\n",
            "bueno           bueno\n",
            "excelente       excelente\n",
            "malo            malo\n",
            "bueno           dict_values([4, 5, 3])\n",
            "excelente       dict_values([4, 5, 3])\n",
            "malo            dict_values([4, 5, 3])\n",
            "bueno\n",
            "excelente\n",
            "malo\n",
            "4\n",
            "5\n",
            "3\n",
            "\n",
            "https://github.com/iecgerman/10002-python/blob/master/clase14.py\n",
            "dict_items([('bueno', 4), ('excelente', 5), ('malo', 3)])\n"
          ]
        }
      ]
    },
    {
      "cell_type": "markdown",
      "source": [
        "Elementos Únicos y Conteos:\n",
        "\n",
        "Utiliza **np.unique** para encontrar elementos únicos y sus conteos en arrays unidimensionales y multidimensionales."
      ],
      "metadata": {
        "id": "y3_W3DQzNtC4"
      }
    },
    {
      "cell_type": "code",
      "source": [
        "# Ejemplo con ejercicio de clase 6 de Broadcasting\n",
        "\n",
        "prices = np.random.randint(1, 99, size=(10,10))\n",
        "print(prices)\n",
        "\n",
        "unique_elements_in_prices, counts = np.unique(prices, return_counts=True)\n",
        "print(unique_elements_in_prices)\n",
        "print(counts)\n",
        "\n",
        "counts_dict_zip = dict(zip(unique_elements_in_prices, counts))\n",
        "print(counts_dict_zip)"
      ],
      "metadata": {
        "colab": {
          "base_uri": "https://localhost:8080/"
        },
        "id": "-MbGHCvZQv_c",
        "outputId": "90d114f2-c6ae-41af-f5b1-8067d4288f8b"
      },
      "execution_count": 10,
      "outputs": [
        {
          "output_type": "stream",
          "name": "stdout",
          "text": [
            "[[80 12 65 13 83 52 64 51 30 57]\n",
            " [ 3  1 41 39 38 47 15  9 70 52]\n",
            " [82 74 80 81 44 80 65 24 53 89]\n",
            " [59 79 57 60 84 64 44 57  1 36]\n",
            " [71 60 71 28 74  3 87 90 50 62]\n",
            " [35 58  3 67 85 40 58 77 78 33]\n",
            " [19 90 42 41 60 78 18 36 56 30]\n",
            " [81 74 88 20 61 61 62 94 60 97]\n",
            " [65 35 63 58 28  1  3 93 85 62]\n",
            " [47 32 87 42 90 56 34 50 35  4]]\n",
            "[ 1  3  4  9 12 13 15 18 19 20 24 28 30 32 33 34 35 36 38 39 40 41 42 44\n",
            " 47 50 51 52 53 56 57 58 59 60 61 62 63 64 65 67 70 71 74 77 78 79 80 81\n",
            " 82 83 84 85 87 88 89 90 93 94 97]\n",
            "[3 4 1 1 1 1 1 1 1 1 1 2 2 1 1 1 3 2 1 1 1 2 2 2 2 2 1 2 1 2 3 3 1 4 2 3 1\n",
            " 2 3 1 1 2 3 1 2 1 3 2 1 1 1 2 2 1 1 3 1 1 1]\n",
            "{1: 3, 3: 4, 4: 1, 9: 1, 12: 1, 13: 1, 15: 1, 18: 1, 19: 1, 20: 1, 24: 1, 28: 2, 30: 2, 32: 1, 33: 1, 34: 1, 35: 3, 36: 2, 38: 1, 39: 1, 40: 1, 41: 2, 42: 2, 44: 2, 47: 2, 50: 2, 51: 1, 52: 2, 53: 1, 56: 2, 57: 3, 58: 3, 59: 1, 60: 4, 61: 2, 62: 3, 63: 1, 64: 2, 65: 3, 67: 1, 70: 1, 71: 2, 74: 3, 77: 1, 78: 2, 79: 1, 80: 3, 81: 2, 82: 1, 83: 1, 84: 1, 85: 2, 87: 2, 88: 1, 89: 1, 90: 3, 93: 1, 94: 1, 97: 1}\n"
          ]
        }
      ]
    },
    {
      "cell_type": "code",
      "source": [
        "# VISTAS\n",
        "\n",
        "array_x = np.arange(10)\n",
        "print(array_x)\n",
        "view_y = array_x[1:3]\n",
        "print(view_y)\n",
        "\n",
        "array_x[1:3] = [10,11]\n",
        "print(array_x)\n",
        "print(view_y)"
      ],
      "metadata": {
        "colab": {
          "base_uri": "https://localhost:8080/"
        },
        "id": "myYedN2MSv4N",
        "outputId": "f779a8b7-540e-4a13-e9d2-e6068fd6ae43"
      },
      "execution_count": null,
      "outputs": [
        {
          "output_type": "stream",
          "name": "stdout",
          "text": [
            "[0 1 2 3 4 5 6 7 8 9]\n",
            "[1 2]\n",
            "[ 0 10 11  3  4  5  6  7  8  9]\n",
            "[10 11]\n"
          ]
        }
      ]
    },
    {
      "cell_type": "code",
      "source": [
        "# COPIAS\n",
        "\n",
        "array_x = np.arange(10)\n",
        "copy_x = array_x[[1,2]]\n",
        "print(array_x)\n",
        "print(copy_x)\n",
        "array_x[1:3] = [10,11]\n",
        "print(array_x)\n",
        "print(copy_x)"
      ],
      "metadata": {
        "colab": {
          "base_uri": "https://localhost:8080/"
        },
        "id": "sJu_NJFCUA7G",
        "outputId": "4a2f5df4-12ae-44f9-e61a-7614bc7d50f1"
      },
      "execution_count": null,
      "outputs": [
        {
          "output_type": "stream",
          "name": "stdout",
          "text": [
            "[0 1 2 3 4 5 6 7 8 9]\n",
            "[1 2]\n",
            "[ 0 10 11  3  4  5  6  7  8  9]\n",
            "[1 2]\n"
          ]
        }
      ]
    },
    {
      "cell_type": "markdown",
      "source": [
        "Copias y Vistas:\n",
        "\n",
        "Las **vistas** son referencias al mismo bloque de memoria que el array original, mientras que las **copias** son réplicas independientes. Cambios en una vista afectan al array original, pero cambios en una copia no."
      ],
      "metadata": {
        "id": "yNqYELDXVkLG"
      }
    },
    {
      "cell_type": "markdown",
      "source": [
        "Las **vistas** comparten la memoria con el array original y las modificaciones hechas en la vista afectan a ese array, en cambio, La **copia** duplica los datos del array y las modificaciones hechas en la copia no afectan al array original"
      ],
      "metadata": {
        "id": "owbwsJeFXtJ3"
      }
    }
  ]
}