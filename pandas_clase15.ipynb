{
  "nbformat": 4,
  "nbformat_minor": 0,
  "metadata": {
    "colab": {
      "provenance": [],
      "authorship_tag": "ABX9TyMOJ/6vHzPb4OK82jyyn40x",
      "include_colab_link": true
    },
    "kernelspec": {
      "name": "python3",
      "display_name": "Python 3"
    },
    "language_info": {
      "name": "python"
    }
  },
  "cells": [
    {
      "cell_type": "markdown",
      "metadata": {
        "id": "view-in-github",
        "colab_type": "text"
      },
      "source": [
        "<a href=\"https://colab.research.google.com/github/iecgerman/python-numpy-pandas/blob/master/pandas_clase15.ipynb\" target=\"_parent\"><img src=\"https://colab.research.google.com/assets/colab-badge.svg\" alt=\"Open In Colab\"/></a>"
      ]
    },
    {
      "cell_type": "code",
      "execution_count": 5,
      "metadata": {
        "id": "Jcn1Uro49WF_"
      },
      "outputs": [],
      "source": [
        "# Curso de Python para Ciencia de Datos\n",
        "\n",
        "# Uso de iloc y loc en Pandas\n",
        "\n",
        "import pandas as pd\n",
        "\n",
        "path = '/content/online_retail.csv'\n",
        "retail_data = pd.read_csv(path)"
      ]
    },
    {
      "cell_type": "code",
      "source": [
        "first_row = retail_data.iloc[0]\n",
        "print(first_row)"
      ],
      "metadata": {
        "colab": {
          "base_uri": "https://localhost:8080/"
        },
        "id": "00MmhRDOBe1_",
        "outputId": "5eee8e18-ccaa-4a8e-be3e-5770a6579627"
      },
      "execution_count": 6,
      "outputs": [
        {
          "output_type": "stream",
          "name": "stdout",
          "text": [
            "InvoiceNo                                  536365\n",
            "StockCode                                  85123A\n",
            "Description    WHITE HANGING HEART T-LIGHT HOLDER\n",
            "Quantity                                        6\n",
            "InvoiceDate                   2010-12-01 08:26:00\n",
            "UnitPrice                                    2.55\n",
            "CustomerID                                17850.0\n",
            "Country                            United Kingdom\n",
            "Name: 0, dtype: object\n"
          ]
        }
      ]
    },
    {
      "cell_type": "code",
      "source": [
        "first_five_row = retail_data.iloc[0:5]\n",
        "print(first_five_row)\n",
        "\n",
        "# iloc: Se basa en la posición (número de índice).\n",
        "\n",
        "# iloc: Excluye el índice final en el slicing (similar a las listas en Python).\n",
        "\n"
      ],
      "metadata": {
        "colab": {
          "base_uri": "https://localhost:8080/"
        },
        "id": "Ey7bo3AjCqG7",
        "outputId": "1d1569c1-2098-404e-a0b7-4637ef2a73bf"
      },
      "execution_count": 7,
      "outputs": [
        {
          "output_type": "stream",
          "name": "stdout",
          "text": [
            "  InvoiceNo StockCode                          Description  Quantity  \\\n",
            "0    536365    85123A   WHITE HANGING HEART T-LIGHT HOLDER         6   \n",
            "1    536365     71053                  WHITE METAL LANTERN         6   \n",
            "2    536365    84406B       CREAM CUPID HEARTS COAT HANGER         8   \n",
            "3    536365    84029G  KNITTED UNION FLAG HOT WATER BOTTLE         6   \n",
            "4    536365    84029E       RED WOOLLY HOTTIE WHITE HEART.         6   \n",
            "\n",
            "           InvoiceDate  UnitPrice  CustomerID         Country  \n",
            "0  2010-12-01 08:26:00       2.55     17850.0  United Kingdom  \n",
            "1  2010-12-01 08:26:00       3.39     17850.0  United Kingdom  \n",
            "2  2010-12-01 08:26:00       2.75     17850.0  United Kingdom  \n",
            "3  2010-12-01 08:26:00       3.39     17850.0  United Kingdom  \n",
            "4  2010-12-01 08:26:00       3.39     17850.0  United Kingdom  \n"
          ]
        }
      ]
    },
    {
      "cell_type": "code",
      "source": [
        "first_five_row = retail_data.iloc[6:8]\n",
        "print(first_five_row)"
      ],
      "metadata": {
        "colab": {
          "base_uri": "https://localhost:8080/"
        },
        "id": "KxuTBq_6C4Oq",
        "outputId": "a1472242-2c8a-4c8a-a945-b7294f9a21f5"
      },
      "execution_count": 8,
      "outputs": [
        {
          "output_type": "stream",
          "name": "stdout",
          "text": [
            "  InvoiceNo StockCode                        Description  Quantity  \\\n",
            "6    536365     21730  GLASS STAR FROSTED T-LIGHT HOLDER         6   \n",
            "7    536366     22633             HAND WARMER UNION JACK         6   \n",
            "\n",
            "           InvoiceDate  UnitPrice  CustomerID         Country  \n",
            "6  2010-12-01 08:26:00       4.25     17850.0  United Kingdom  \n",
            "7  2010-12-01 08:28:00       1.85     17850.0  United Kingdom  \n"
          ]
        }
      ]
    },
    {
      "cell_type": "code",
      "source": [
        "# subset (subconjunto) ver las primeras 3 filas las 2 columnas\n",
        "\n",
        "subset = retail_data.iloc[0:3, 0:2]\n",
        "print(subset)"
      ],
      "metadata": {
        "colab": {
          "base_uri": "https://localhost:8080/"
        },
        "id": "evpV9kgYDX6B",
        "outputId": "996cec2d-5890-46bf-e680-2dc8556ed066"
      },
      "execution_count": 9,
      "outputs": [
        {
          "output_type": "stream",
          "name": "stdout",
          "text": [
            "  InvoiceNo StockCode\n",
            "0    536365    85123A\n",
            "1    536365     71053\n",
            "2    536365    84406B\n"
          ]
        }
      ]
    },
    {
      "cell_type": "code",
      "source": [
        "retail_value = retail_data.iloc[1,2]\n",
        "print(retail_value)"
      ],
      "metadata": {
        "colab": {
          "base_uri": "https://localhost:8080/"
        },
        "id": "au5A293gD_tE",
        "outputId": "a357c9fb-3f31-4931-abdf-6b93bd786c9e"
      },
      "execution_count": 10,
      "outputs": [
        {
          "output_type": "stream",
          "name": "stdout",
          "text": [
            "WHITE METAL LANTERN\n"
          ]
        }
      ]
    },
    {
      "cell_type": "code",
      "source": [
        "row_index_3 = retail_data.loc[3]\n",
        "print(row_index_3)"
      ],
      "metadata": {
        "colab": {
          "base_uri": "https://localhost:8080/"
        },
        "id": "UqzTo_sVESn6",
        "outputId": "a949aca5-9a86-4752-f478-52b8a08b2965"
      },
      "execution_count": 11,
      "outputs": [
        {
          "output_type": "stream",
          "name": "stdout",
          "text": [
            "InvoiceNo                                   536365\n",
            "StockCode                                   84029G\n",
            "Description    KNITTED UNION FLAG HOT WATER BOTTLE\n",
            "Quantity                                         6\n",
            "InvoiceDate                    2010-12-01 08:26:00\n",
            "UnitPrice                                     3.39\n",
            "CustomerID                                 17850.0\n",
            "Country                             United Kingdom\n",
            "Name: 3, dtype: object\n"
          ]
        }
      ]
    },
    {
      "cell_type": "code",
      "source": [
        "row_index_0_to_4 = retail_data.loc[0:4]\n",
        "print(row_index_0_to_4)\n",
        "\n",
        "# loc: Se basa en las etiquetas de los índices.\n",
        "\n",
        "# loc: Incluye tanto el inicio como el final en el slicing.\n",
        "\n",
        "# loc permite la selección de filas o columnas utilizando condiciones booleanas, lo cual no es posible con iloc."
      ],
      "metadata": {
        "colab": {
          "base_uri": "https://localhost:8080/"
        },
        "id": "5LXU8US3FEOB",
        "outputId": "058a37c6-d0fe-401b-a2be-a53135922731"
      },
      "execution_count": 12,
      "outputs": [
        {
          "output_type": "stream",
          "name": "stdout",
          "text": [
            "  InvoiceNo StockCode                          Description  Quantity  \\\n",
            "0    536365    85123A   WHITE HANGING HEART T-LIGHT HOLDER         6   \n",
            "1    536365     71053                  WHITE METAL LANTERN         6   \n",
            "2    536365    84406B       CREAM CUPID HEARTS COAT HANGER         8   \n",
            "3    536365    84029G  KNITTED UNION FLAG HOT WATER BOTTLE         6   \n",
            "4    536365    84029E       RED WOOLLY HOTTIE WHITE HEART.         6   \n",
            "\n",
            "           InvoiceDate  UnitPrice  CustomerID         Country  \n",
            "0  2010-12-01 08:26:00       2.55     17850.0  United Kingdom  \n",
            "1  2010-12-01 08:26:00       3.39     17850.0  United Kingdom  \n",
            "2  2010-12-01 08:26:00       2.75     17850.0  United Kingdom  \n",
            "3  2010-12-01 08:26:00       3.39     17850.0  United Kingdom  \n",
            "4  2010-12-01 08:26:00       3.39     17850.0  United Kingdom  \n"
          ]
        }
      ]
    },
    {
      "cell_type": "code",
      "source": [
        "quantity_column = retail_data.loc[:,'Quantity']\n",
        "print(quantity_column)"
      ],
      "metadata": {
        "colab": {
          "base_uri": "https://localhost:8080/"
        },
        "id": "UbyephdfF_sq",
        "outputId": "27e3d1b5-ec6a-43a3-b0e3-dfc0853805d3"
      },
      "execution_count": 13,
      "outputs": [
        {
          "output_type": "stream",
          "name": "stdout",
          "text": [
            "0          6\n",
            "1          6\n",
            "2          8\n",
            "3          6\n",
            "4          6\n",
            "          ..\n",
            "541904    12\n",
            "541905     6\n",
            "541906     4\n",
            "541907     4\n",
            "541908     3\n",
            "Name: Quantity, Length: 541909, dtype: int64\n"
          ]
        }
      ]
    },
    {
      "cell_type": "code",
      "source": [
        "quantity_UnitPrice_column = retail_data.loc[50000:50005,['Quantity','Description','UnitPrice']]\n",
        "print(quantity_UnitPrice_column)"
      ],
      "metadata": {
        "colab": {
          "base_uri": "https://localhost:8080/"
        },
        "id": "rmtESzWLGzyS",
        "outputId": "1b162407-28e3-49da-c790-a679a382371e"
      },
      "execution_count": 16,
      "outputs": [
        {
          "output_type": "stream",
          "name": "stdout",
          "text": [
            "       Quantity                         Description  UnitPrice\n",
            "50000         6       SET OF 4 NAPKIN CHARMS HEARTS       2.55\n",
            "50001         6  WHITE HANGING HEART T-LIGHT HOLDER       2.95\n",
            "50002        12      ASSORTED COLOUR T-LIGHT HOLDER       0.65\n",
            "50003        24  MULTI COLOUR SILVER T-LIGHT HOLDER       0.85\n",
            "50004         2       ORGANISER WOOD ANTIQUE WHITE        8.50\n",
            "50005         2   WOOD S/3 CABINET ANT WHITE FINISH       7.95\n"
          ]
        }
      ]
    }
  ]
}