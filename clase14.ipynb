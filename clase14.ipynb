{
  "nbformat": 4,
  "nbformat_minor": 0,
  "metadata": {
    "colab": {
      "provenance": [],
      "authorship_tag": "ABX9TyPKbObZyTn1ANIx6ueJ9vwz",
      "include_colab_link": true
    },
    "kernelspec": {
      "name": "python3",
      "display_name": "Python 3"
    },
    "language_info": {
      "name": "python"
    }
  },
  "cells": [
    {
      "cell_type": "markdown",
      "metadata": {
        "id": "view-in-github",
        "colab_type": "text"
      },
      "source": [
        "<a href=\"https://colab.research.google.com/github/iecgerman/python-numpy-pandas/blob/master/clase14.ipynb\" target=\"_parent\"><img src=\"https://colab.research.google.com/assets/colab-badge.svg\" alt=\"Open In Colab\"/></a>"
      ]
    },
    {
      "cell_type": "code",
      "execution_count": 41,
      "metadata": {
        "colab": {
          "base_uri": "https://localhost:8080/"
        },
        "id": "A2vlxGoHQCOr",
        "outputId": "590f494c-e164-4dad-cf14-71923537a547"
      },
      "outputs": [
        {
          "output_type": "stream",
          "name": "stdout",
          "text": [
            "  InvoiceNo StockCode                          Description  Quantity  \\\n",
            "0    536365    85123A   WHITE HANGING HEART T-LIGHT HOLDER         6   \n",
            "1    536365     71053                  WHITE METAL LANTERN         6   \n",
            "2    536365    84406B       CREAM CUPID HEARTS COAT HANGER         8   \n",
            "3    536365    84029G  KNITTED UNION FLAG HOT WATER BOTTLE         6   \n",
            "4    536365    84029E       RED WOOLLY HOTTIE WHITE HEART.         6   \n",
            "\n",
            "           InvoiceDate  UnitPrice  CustomerID         Country  \n",
            "0  2010-12-01 08:26:00       2.55     17850.0  United Kingdom  \n",
            "1  2010-12-01 08:26:00       3.39     17850.0  United Kingdom  \n",
            "2  2010-12-01 08:26:00       2.75     17850.0  United Kingdom  \n",
            "3  2010-12-01 08:26:00       3.39     17850.0  United Kingdom  \n",
            "4  2010-12-01 08:26:00       3.39     17850.0  United Kingdom  \n"
          ]
        }
      ],
      "source": [
        "# Creación de DataFrames en Pandas\n",
        "\n",
        "\"\"\"\n",
        "Pandas es una biblioteca de Python diseñada específicamente para la manipulación y el análisis de datos. Su popularidad en la comunidad de ciencia de datos se debe a su facilidad de uso, su integración con otras bibliotecas como NumPy y Matplotlib, y la capacidad de manejar grandes volúmenes de datos de manera eficiente. Python, por su parte, es un lenguaje de programación versátil y ampliamente utilizado en diversas áreas de la tecnología, lo que lo convierte en una elección natural para el análisis de datos.\n",
        "\n",
        "¿Por qué Pandas y Python?\n",
        "\n",
        "Facilidad de Uso: La sintaxis de Pandas es intuitiva y fácil de aprender. Permite realizar operaciones complejas de manera sencilla, lo que facilita la limpieza y manipulación de datos.\n",
        "Eficiencia: Pandas está optimizado para realizar operaciones en grandes conjuntos de datos de manera rápida y eficiente.\n",
        "Flexibilidad: Puede manejar diferentes tipos de datos y formatos, como CSV, Excel, JSON, SQL, entre otros.\n",
        "Integración: Se integra perfectamente con otras bibliotecas de Python como NumPy, Matplotlib, y Scikit-learn, lo que permite una amplia gama de análisis y visualizaciones.\n",
        "Procesos de Limpieza de Datos en Pandas\n",
        "\n",
        "Cuando trabajamos con datos reales, es común encontrar datos faltantes, inconsistencias, y errores. Pandas proporciona una amplia gama de herramientas para limpiar y preparar los datos para el análisis. Estos son algunos de los procesos por los que pasará un archivo CSV en Pandas:\n",
        "\n",
        "Lectura de Datos: El primer paso es leer los datos desde el archivo CSV utilizando pd.read_csv().\n",
        "Conversión de Tipos de Datos: A menudo es necesario convertir tipos de datos, por ejemplo, convertir fechas de texto a objetos datetime.\n",
        "Eliminación de Filas o Columnas: Es común eliminar filas o columnas innecesarias o que contienen muchos valores faltantes.\n",
        "Imputación de Datos Faltantes: Los valores faltantes pueden ser imputados utilizando técnicas como el relleno con la media, mediana, o un valor constante.\n",
        "Eliminación de Duplicados: Los datos duplicados pueden ser identificados y eliminados para asegurar la integridad de los datos.\n",
        "Filtrado de Datos: Filtrar los datos para enfocarse en subconjuntos específicos basados en condiciones lógicas.\n",
        "Creación de Nuevas Columnas: Generar nuevas columnas derivadas de las existentes para facilitar el análisis.\n",
        "\n",
        "¿Qué es un DataFrame?\n",
        "\n",
        "Un DataFrame es una estructura de datos bidimensional en Pandas, similar a una tabla en una base de datos o una hoja de cálculo en Excel. Está compuesto por filas y columnas, donde cada columna puede contener un tipo de dato diferente (números, cadenas, fechas, etc.). Los DataFrames son extremadamente útiles para la manipulación, análisis y visualización de datos.\n",
        "\n",
        "A continuación, exploraremos diversas formas de crear DataFrames en Pandas, utilizando diferentes fuentes de datos:\n",
        "\n",
        "1. Leer Datos desde un Archivo CSV\n",
        "\n",
        "La forma más común de crear un DataFrame es leyendo datos desde un archivo CSV. Vamos a utilizar el dataset de ventas retail que hemos estado manejando. Los estudiantes también pueden descargar un dataset de las plataformas mencionadas anteriormente o de donde ellos gusten para hacer la extracción de datos. Esto les permitirá tener el proyecto de retail y otro proyecto adicional que ellos elijan.\n",
        "\"\"\"\n",
        "\n",
        "import pandas as pd\n",
        "\n",
        "# Leer el dataset de ventas desde un archivo csv\n",
        "\n",
        "path = '/content/online_retail.csv'\n",
        "df = pd.read_csv(path)\n",
        "\n",
        "# Mostrar las primeras filas del DataFrame\n",
        "\n",
        "print(df.head())"
      ]
    },
    {
      "cell_type": "code",
      "source": [
        "# Crear DataFrames desde Arrays de NumPy\n",
        "\n",
        "\"\"\"\n",
        "Pandas se integra perfectamente con NumPy, lo que permite crear DataFrames a partir de arrays de NumPy. Esto es útil cuando trabajamos con datos numéricos y necesitamos realizar análisis o transformaciones más complejas.\n",
        "\"\"\"\n",
        "\n",
        "import numpy as np\n",
        "\n",
        "# Crear un array de NumPy\n",
        "data = np.array([[1,2,3],[4,5,6],[7,8,9]])\n",
        "\n",
        "# Crear un DataFrame desde el array\n",
        "df_from_array = pd.DataFrame(data, columns=['A','B','C'])\n",
        "\n",
        "#Mostrar el Dataframe\n",
        "print(df_from_array)"
      ],
      "metadata": {
        "colab": {
          "base_uri": "https://localhost:8080/"
        },
        "id": "R1k0ToSkTKqC",
        "outputId": "12853d0b-0f1b-4c92-ac40-4d7887796454"
      },
      "execution_count": 42,
      "outputs": [
        {
          "output_type": "stream",
          "name": "stdout",
          "text": [
            "   A  B  C\n",
            "0  1  2  3\n",
            "1  4  5  6\n",
            "2  7  8  9\n"
          ]
        }
      ]
    },
    {
      "cell_type": "code",
      "source": [
        "# Crear DataFrames desde Listas de Python\n",
        "\n",
        "# Lista de Listas\n",
        "\n",
        "# Crear una lista de listas\n",
        "data = [[1, 'Jony', 22], [2, 'Ana', 24], [3, 'Mike', 21]]\n",
        "\n",
        "# Crear un DataFrame desde la lista de listas\n",
        "df_from_list = pd.DataFrame(data, columns=['ID', 'Nombre', 'Edad'])\n",
        "\n",
        "#Mostrar el DataFrame\n",
        "print(df_from_list)\n"
      ],
      "metadata": {
        "colab": {
          "base_uri": "https://localhost:8080/"
        },
        "id": "Dr1nbep8Ucqn",
        "outputId": "74f369f0-8a2f-4d93-c3ba-bb1a8cff4069"
      },
      "execution_count": 43,
      "outputs": [
        {
          "output_type": "stream",
          "name": "stdout",
          "text": [
            "   ID Nombre  Edad\n",
            "0   1   Jony    22\n",
            "1   2    Ana    24\n",
            "2   3   Mike    21\n"
          ]
        }
      ]
    },
    {
      "cell_type": "code",
      "source": [
        "# Lista de Diccionarios\n",
        "\n",
        "# Crear una lista de diccionarios\n",
        "\n",
        "data = [\n",
        "    {\n",
        "        'ID': 1,\n",
        "        'Nombre': 'Jony',\n",
        "        'Edad': 22\n",
        "    },\n",
        "    {\n",
        "        'ID': 2,\n",
        "        'Nombre': 'Ana',\n",
        "        'Edad': 24\n",
        "    },\n",
        "    {\n",
        "        'ID': 3,\n",
        "        'Nombre': 'Mike',\n",
        "        'Edad': 21\n",
        "    }\n",
        "]\n",
        "\n",
        "# print(data)\n",
        "\n",
        "# Crear un DataFrame desde la lista de diccionarios\n",
        "df_from_dict_list = pd.DataFrame(data)\n",
        "\n",
        "# Mostrar el DataFrame\n",
        "print(df_from_dict_list)"
      ],
      "metadata": {
        "colab": {
          "base_uri": "https://localhost:8080/"
        },
        "id": "geyKynxuVhbH",
        "outputId": "2d7091a4-90b5-4b31-aca6-d1915293e543"
      },
      "execution_count": 44,
      "outputs": [
        {
          "output_type": "stream",
          "name": "stdout",
          "text": [
            "   ID Nombre  Edad\n",
            "0   1   Jony    22\n",
            "1   2    Ana    24\n",
            "2   3   Mike    21\n"
          ]
        }
      ]
    },
    {
      "cell_type": "code",
      "source": [
        "# Crear DataFrames desde Diccionarios\n",
        "\n",
        "# Los diccionarios de Python son una estructura de datos flexible y comúnmente utilizada para crear DataFrames.\n",
        "\n",
        "# Diccionarios de Listas\n",
        "\n",
        "# Crear un diccionario de listas\n",
        "\n",
        "data = {\n",
        "    'ID': [1, 2, 3, 4, 5, 6, 7, 8, 9],\n",
        "    'NOMBRE': ['GERMAN', 'PAQUIRO', 'LIZANDRO', 'NOMBRE4', 'NOMBRE5', 'NOMBRE6', 'NOMBRE7', 'NOMBRE8', 'NOMBRE9'],\n",
        "    'EDAD': [27, 37, 47, 48, 49, 50, 51, 52, 53]\n",
        "    }\n",
        "\n",
        "# print(data)\n",
        "\n",
        "# Crear un DataFrame desde el diccionario de listas\n",
        "df_from_dict = pd.DataFrame(data)\n",
        "\n",
        "# Mostrar el DataFrame\n",
        "print(df_from_dict)\n"
      ],
      "metadata": {
        "colab": {
          "base_uri": "https://localhost:8080/"
        },
        "id": "Uah0j6FBYP9O",
        "outputId": "7405a9f7-8b5f-45f0-ace0-67e62b1faa79"
      },
      "execution_count": 45,
      "outputs": [
        {
          "output_type": "stream",
          "name": "stdout",
          "text": [
            "   ID    NOMBRE  EDAD\n",
            "0   1    GERMAN    27\n",
            "1   2   PAQUIRO    37\n",
            "2   3  LIZANDRO    47\n",
            "3   4   NOMBRE4    48\n",
            "4   5   NOMBRE5    49\n",
            "5   6   NOMBRE6    50\n",
            "6   7   NOMBRE7    51\n",
            "7   8   NOMBRE8    52\n",
            "8   9   NOMBRE9    53\n"
          ]
        }
      ]
    },
    {
      "cell_type": "code",
      "source": [
        "# Diccionarios de Series\n",
        "\n",
        "# Crear un diccionario de Series\n",
        "\n",
        "data = {\n",
        "    'ID': pd.Series([1,2,3]),\n",
        "    'NOMBRE': pd.Series(['GERMAN', 'PAQUIRO', 'LIZANDRO']),\n",
        "    'EDAD': pd.Series([27, 37, 47])\n",
        "    }\n",
        "\n",
        "# Crear un DataFrame desde el diccionario de Series\n",
        "df_from_series_dict = pd.DataFrame(data)\n",
        "\n",
        "# Mostrar el DataFrame\n",
        "print(df_from_series_dict)"
      ],
      "metadata": {
        "colab": {
          "base_uri": "https://localhost:8080/"
        },
        "id": "la79p3DiZjZ6",
        "outputId": "c74a6071-b456-4527-a29e-b4bb039e9b93"
      },
      "execution_count": 46,
      "outputs": [
        {
          "output_type": "stream",
          "name": "stdout",
          "text": [
            "   ID    NOMBRE  EDAD\n",
            "0   1    GERMAN    27\n",
            "1   2   PAQUIRO    37\n",
            "2   3  LIZANDRO    47\n"
          ]
        }
      ]
    },
    {
      "cell_type": "code",
      "source": [
        "\"\"\"\n",
        " Crear DataFrames desde Archivos Excel\n",
        "Pandas puede leer archivos Excel directamente y convertirlos en DataFrames.\n",
        "\n",
        "# Leer el dataset desde un archivo Excel\n",
        "file_path = \"/content/online_retail.xlsx\"\n",
        "df_from_excel = pd.read_excel(file_path)\n",
        "\n",
        "# Mostrar las primeras filas del DataFrame\n",
        "print(df_from_excel.head())\n",
        "6. Crear DataFrames desde Archivos JSON\n",
        "Pandas facilita la lectura de archivos JSON que son comunes en aplicaciones web y APIs.\n",
        "\n",
        "# Leer el dataset desde un archivo JSON\n",
        "file_path = \"/content/online_retail.json\"\n",
        "df_from_json = pd.read_json(file_path)\n",
        "\n",
        "# Mostrar las primeras filas del DataFrame\n",
        "print(df_from_json.head())\n",
        "7. Crear DataFrames desde Archivos HTML\n",
        "También puede extraer tablas directamente de archivos HTML o páginas web.\n",
        "\n",
        "# Leer el dataset desde una tabla HTML\n",
        "url = \"https://example.com/table.html\"\n",
        "dfs = pd.read_html(url)\n",
        "\n",
        "# Mostrar el primer DataFrame extraído\n",
        "print(dfs[0].head())\n",
        "\"\"\"\n"
      ],
      "metadata": {
        "id": "LF0NCn8Qu7oy",
        "colab": {
          "base_uri": "https://localhost:8080/",
          "height": 139
        },
        "outputId": "cdee9b9e-4e41-4bc0-8076-34cfa2284369"
      },
      "execution_count": 47,
      "outputs": [
        {
          "output_type": "execute_result",
          "data": {
            "text/plain": [
              "'\\n Crear DataFrames desde Archivos Excel\\nPandas puede leer archivos Excel directamente y convertirlos en DataFrames.\\n\\n# Leer el dataset desde un archivo Excel\\nfile_path = \"/content/online_retail.xlsx\"\\ndf_from_excel = pd.read_excel(file_path)\\n\\n# Mostrar las primeras filas del DataFrame\\nprint(df_from_excel.head())\\n6. Crear DataFrames desde Archivos JSON\\nPandas facilita la lectura de archivos JSON que son comunes en aplicaciones web y APIs.\\n\\n# Leer el dataset desde un archivo JSON\\nfile_path = \"/content/online_retail.json\"\\ndf_from_json = pd.read_json(file_path)\\n\\n# Mostrar las primeras filas del DataFrame\\nprint(df_from_json.head())\\n7. Crear DataFrames desde Archivos HTML\\nTambién puede extraer tablas directamente de archivos HTML o páginas web.\\n\\n# Leer el dataset desde una tabla HTML\\nurl = \"https://example.com/table.html\"\\ndfs = pd.read_html(url)\\n\\n# Mostrar el primer DataFrame extraído\\nprint(dfs[0].head())\\n'"
            ],
            "application/vnd.google.colaboratory.intrinsic+json": {
              "type": "string"
            }
          },
          "metadata": {},
          "execution_count": 47
        }
      ]
    },
    {
      "cell_type": "code",
      "source": [
        "# Uso de Google Drive para Acceder a Archivos\n",
        "\n",
        "# Para facilitar el acceso y manejo de archivos, podemos utilizar Google Drive. Aquí se explica cómo montar Google Drive en un entorno de Google Colab:\n",
        "\n",
        "from google.colab import drive\n",
        "\n",
        "# montar Google Drive\n",
        "drive.mount('/content/drive')\n",
        "\n",
        "# Especificar la ruta del archivo en Google Drive\n",
        "path = \"/content/drive/My Drive/Diabetes-Data.csv\"\n",
        "\n",
        "# Leer el archivo CSV desde Google Drive\n",
        "data = pd.read_csv(path)\n",
        "\n",
        "# Mostrar las prrimeras 10 filas del DataFrame\n",
        "print(data.head(10))"
      ],
      "metadata": {
        "id": "IIBbHNuevEeG",
        "colab": {
          "base_uri": "https://localhost:8080/"
        },
        "outputId": "eb7a2f00-7524-4924-e6c4-2c661e622530"
      },
      "execution_count": 52,
      "outputs": [
        {
          "output_type": "stream",
          "name": "stdout",
          "text": [
            "Drive already mounted at /content/drive; to attempt to forcibly remount, call drive.mount(\"/content/drive\", force_remount=True).\n",
            "   Id  Pregnancies  Glucose  BloodPressure  SkinThickness  Insulin   BMI  \\\n",
            "0   1            6      148             72             35        0  33.6   \n",
            "1   2            1       85             66             29        0  26.6   \n",
            "2   3            8      183             64              0        0  23.3   \n",
            "3   4            1       89             66             23       94  28.1   \n",
            "4   5            0      137             40             35      168  43.1   \n",
            "5   6            5      116             74              0        0  25.6   \n",
            "6   7            3       78             50             32       88  31.0   \n",
            "7   8           10      115              0              0        0  35.3   \n",
            "8   9            2      197             70             45      543  30.5   \n",
            "9  10            8      125             96              0        0   0.0   \n",
            "\n",
            "   DiabetesPedigreeFunction  Age  Outcome  \n",
            "0                     0.627   50        1  \n",
            "1                     0.351   31        0  \n",
            "2                     0.672   32        1  \n",
            "3                     0.167   21        0  \n",
            "4                     2.288   33        1  \n",
            "5                     0.201   30        0  \n",
            "6                     0.248   26        1  \n",
            "7                     0.134   29        0  \n",
            "8                     0.158   53        1  \n",
            "9                     0.232   54        1  \n"
          ]
        }
      ]
    }
  ]
}